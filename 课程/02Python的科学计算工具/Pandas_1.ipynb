{
 "cells": [
  {
   "cell_type": "markdown",
   "metadata": {},
   "source": [
    "## Pandas"
   ]
  },
  {
   "cell_type": "markdown",
   "metadata": {},
   "source": [
    "Pandas是基于Numpy的专门用于数据分析的开源Python库，该库是为了解决数据分析任务而创建的，它能够以最简单的方式进行数据拼接、数据抽取和数据聚合等操作，并且提供了高效地操作大型数据集所需的工具。\n",
    "\n",
    "* pandas提供了使我们能够快速便捷地处理结构化数据的大量数据结构和函数\n",
    "\n",
    "* pandas兼具NumPy高性能的数组计算功能以及电子表格和关系型数据库灵活的数据处理功能\n",
    "\n",
    "* 对于金融行业的用户，pandas提供了大量适合于金融数据的高性能时间序列功能和工具\n",
    "\n",
    "* 学统计的人会对R语言比较熟悉，R提供的data.frame对象功能仅仅是pandas的DataFrame所提供的功能的一个子集\n"
   ]
  },
  {
   "cell_type": "code",
   "execution_count": null,
   "metadata": {
    "ExecuteTime": {
     "end_time": "2018-03-24T16:39:33.761886Z",
     "start_time": "2018-03-24T16:39:33.097982Z"
    }
   },
   "outputs": [],
   "source": [
    "# 版本\n",
    "import numpy as np\n",
    "import pandas as pd\n",
    "pd.__version__"
   ]
  },
  {
   "cell_type": "markdown",
   "metadata": {
    "ExecuteTime": {
     "end_time": "2018-03-24T09:52:28.088859Z",
     "start_time": "2018-03-24T09:52:28.081840Z"
    },
    "heading_collapsed": true
   },
   "source": [
    "### 数据结构"
   ]
  },
  {
   "cell_type": "markdown",
   "metadata": {
    "hidden": true
   },
   "source": [
    "Pandas 有两种自己独有的基本数据结构：Series 和 DataFrame，这两种结构使得Pandas在处理表格数据非常高效。"
   ]
  },
  {
   "cell_type": "markdown",
   "metadata": {
    "hidden": true
   },
   "source": [
    "#### Series"
   ]
  },
  {
   "cell_type": "markdown",
   "metadata": {
    "ExecuteTime": {
     "end_time": "2018-03-24T10:05:45.916308Z",
     "start_time": "2018-03-24T10:05:45.911255Z"
    },
    "hidden": true
   },
   "source": [
    "**Series**是具有灵活索引的一维数组，它可以通过列表或数组创建。"
   ]
  },
  {
   "cell_type": "code",
   "execution_count": null,
   "metadata": {
    "ExecuteTime": {
     "end_time": "2018-03-24T10:15:09.813734Z",
     "start_time": "2018-03-24T10:15:09.783153Z"
    },
    "hidden": true
   },
   "outputs": [],
   "source": [
    "# 创建Series\n",
    "x = pd.Series([1,2,3,4,5,6])\n",
    "print(x)\n",
    "print('-----------------')\n",
    "\n",
    "# 输出元素\n",
    "print(x.values)\n",
    "print('-----------------')\n",
    "\n",
    "# 输出索引\n",
    "print(x.index)"
   ]
  },
  {
   "cell_type": "markdown",
   "metadata": {
    "hidden": true
   },
   "source": [
    "**索引**"
   ]
  },
  {
   "cell_type": "code",
   "execution_count": null,
   "metadata": {
    "ExecuteTime": {
     "end_time": "2018-03-24T10:27:54.852179Z",
     "start_time": "2018-03-24T10:27:54.817591Z"
    },
    "hidden": true
   },
   "outputs": [],
   "source": [
    "# 设置索引\n",
    "y = pd.Series([1,2,3,4],\n",
    "             index = ['a', 'b', 'c', 'd'])\n",
    "print(y)\n",
    "print('-----------------')\n",
    "print(y['c'])\n",
    "\n",
    "# 通过字典生成Series\n",
    "population_dict = {'California': 38332521,\n",
    "                   'Texas': 26448193,\n",
    "                   'New York': 19651127,\n",
    "                   'Florida': 19552860,\n",
    "                   'Illinois': 12882135}\n",
    "population = pd.Series(population_dict)\n",
    "print(population)\n",
    "print('-----------------')\n",
    "print(population['California':'Illinois'])"
   ]
  },
  {
   "cell_type": "markdown",
   "metadata": {
    "hidden": true
   },
   "source": [
    "#### DateFrame"
   ]
  },
  {
   "cell_type": "markdown",
   "metadata": {
    "hidden": true
   },
   "source": [
    "**DataFrame**是具有灵活行索引和灵活列名称的二维数组。"
   ]
  },
  {
   "cell_type": "code",
   "execution_count": null,
   "metadata": {
    "ExecuteTime": {
     "end_time": "2018-03-24T10:44:45.852128Z",
     "start_time": "2018-03-24T10:44:45.809013Z"
    },
    "hidden": true
   },
   "outputs": [],
   "source": [
    "# 利用Series生成DataFrame\n",
    "data = pd.DataFrame({'population': population})\n",
    "print(data)\n",
    "print('-----------------')\n",
    "print(data.index)\n",
    "print('-----------------')\n",
    "print(data.columns)\n",
    "print('-----------------')\n",
    "\n",
    "# 通过DataFrame()方法\n",
    "print(pd.DataFrame(population, columns=['population']))\n",
    "print('-----------------')"
   ]
  },
  {
   "cell_type": "markdown",
   "metadata": {
    "heading_collapsed": true
   },
   "source": [
    "### 索引和选择"
   ]
  },
  {
   "cell_type": "markdown",
   "metadata": {
    "ExecuteTime": {
     "end_time": "2018-03-24T11:11:00.940019Z",
     "start_time": "2018-03-24T11:11:00.934002Z"
    },
    "hidden": true
   },
   "source": [
    "**索引**"
   ]
  },
  {
   "cell_type": "code",
   "execution_count": null,
   "metadata": {
    "ExecuteTime": {
     "end_time": "2018-03-24T11:07:32.624845Z",
     "start_time": "2018-03-24T11:07:32.590254Z"
    },
    "hidden": true
   },
   "outputs": [],
   "source": [
    "area = pd.Series({'California': 423967, 'Texas': 695662,\n",
    "                  'New York': 141297, 'Florida': 170312,\n",
    "                  'Illinois': 149995})\n",
    "pop = pd.Series({'California': 38332521, 'Texas': 26448193,\n",
    "                 'New York': 19651127, 'Florida': 19552860,\n",
    "                 'Illinois': 12882135})\n",
    "data = pd.DataFrame({'area':area, 'pop':pop})\n",
    "data"
   ]
  },
  {
   "cell_type": "markdown",
   "metadata": {
    "ExecuteTime": {
     "end_time": "2018-03-24T11:08:23.865777Z",
     "start_time": "2018-03-24T11:08:23.857755Z"
    },
    "hidden": true
   },
   "source": [
    "**索引**指的是列，**切片**指的是行。"
   ]
  },
  {
   "cell_type": "code",
   "execution_count": null,
   "metadata": {
    "ExecuteTime": {
     "end_time": "2018-03-24T11:11:44.856121Z",
     "start_time": "2018-03-24T11:11:44.808097Z"
    },
    "hidden": true
   },
   "outputs": [],
   "source": [
    "# 标签索引\n",
    "print(data['area'])\n",
    "print('-----------------')\n",
    "\n",
    "print(data.area)\n",
    "print('-----------------')\n",
    "\n",
    "print(data['Florida':'Illinois'])\n",
    "print('-----------------')\n",
    "\n",
    "print(data[1:3])\n",
    "print('-----------------')\n",
    "\n",
    "print(data[data.area > 200000])"
   ]
  },
  {
   "cell_type": "markdown",
   "metadata": {
    "ExecuteTime": {
     "end_time": "2018-03-24T11:05:41.654207Z",
     "start_time": "2018-03-24T11:05:41.647187Z"
    },
    "hidden": true
   },
   "source": [
    "**选择**\n",
    "* loc[]\n",
    "* iloc[]\n",
    "* ix[]"
   ]
  },
  {
   "cell_type": "code",
   "execution_count": null,
   "metadata": {
    "ExecuteTime": {
     "end_time": "2018-03-24T11:20:32.510435Z",
     "start_time": "2018-03-24T11:20:32.450873Z"
    },
    "hidden": true
   },
   "outputs": [],
   "source": [
    "# loc[]方法\n",
    "print(data.loc[:'Illinois', :'pop'])\n",
    "print('-----------------')\n",
    "\n",
    "# iloc[]方法\n",
    "print(data.iloc[:3, :2])\n",
    "print('-----------------')\n",
    "\n",
    "# ix[]方法\n",
    "print(data.ix[:3, :'pop'])\n",
    "print('-----------------')\n",
    "\n",
    "# 限制选择\n",
    "print(data.loc[data.area > 200000, ['area', 'pop']])"
   ]
  },
  {
   "cell_type": "markdown",
   "metadata": {
    "ExecuteTime": {
     "end_time": "2018-03-24T11:21:03.382083Z",
     "start_time": "2018-03-24T11:21:03.370537Z"
    },
    "hidden": true
   },
   "source": [
    "**选择数组**"
   ]
  },
  {
   "cell_type": "code",
   "execution_count": null,
   "metadata": {
    "ExecuteTime": {
     "end_time": "2018-03-24T11:21:10.458094Z",
     "start_time": "2018-03-24T11:21:10.439477Z"
    },
    "hidden": true
   },
   "outputs": [],
   "source": [
    "print(data.values)\n",
    "print('-----------------')\n",
    "print(data.T)"
   ]
  },
  {
   "cell_type": "code",
   "execution_count": null,
   "metadata": {
    "hidden": true
   },
   "outputs": [],
   "source": []
  },
  {
   "cell_type": "markdown",
   "metadata": {
    "ExecuteTime": {
     "end_time": "2018-03-24T14:06:07.774523Z",
     "start_time": "2018-03-24T14:06:07.754971Z"
    },
    "heading_collapsed": true
   },
   "source": [
    "### 导入数据"
   ]
  },
  {
   "cell_type": "markdown",
   "metadata": {
    "hidden": true
   },
   "source": [
    "常用方法\n",
    "\n",
    "* pd.read_csv():从文件、URL、文件型对象中加载带分隔符的数据，默认分隔符为逗号。\n",
    "* pd.read_table():从文件、URL、文件型对象中加载带分隔符的数据，默认分隔符为制表符“\\t”。\n",
    "* pd.read_excel():从EXCLE的xls文件中加载数据。\n",
    "\n",
    "常用参数\n",
    "\n",
    "* path ：表示文件系统位置、URL、文件型对象的字符串\n",
    "* sep/delimiter：用于对行中个字段进行拆分的字符序列或正则表达式\n",
    "* header：用做列名的行号。默认为0（第一行），若无header行，设为None\n",
    "* names：用于结果的列名列表，结合header=None \n",
    "* skiprows: 需要忽略的行数  \n",
    "* na_values：一组用于替换NA的值\n",
    "* nrows：需要读取的行数（从文件开始处算起）\n",
    "* verbose：打印各种解析器信息，比如“非数值列中缺失值的数量”\n",
    "* encoding：用于unicode的文本格式编码。例如，“utf-8”表示用UTF-8 编码的文本\n"
   ]
  },
  {
   "cell_type": "code",
   "execution_count": null,
   "metadata": {
    "ExecuteTime": {
     "end_time": "2018-03-24T15:02:04.513591Z",
     "start_time": "2018-03-24T15:02:04.481327Z"
    },
    "hidden": true
   },
   "outputs": [],
   "source": [
    "# 导入iris.csv文件\n",
    "df1 = pd.read_csv('./data/iris.csv')\n",
    "print(df1.head())\n",
    "print('----------------------------------------------------')\n",
    "\n",
    "df2 = pd.read_table('./data/iris.csv', sep = ',')\n",
    "print(df2.head())"
   ]
  },
  {
   "cell_type": "code",
   "execution_count": null,
   "metadata": {
    "ExecuteTime": {
     "end_time": "2018-03-24T15:02:28.044731Z",
     "start_time": "2018-03-24T15:02:28.016156Z"
    },
    "hidden": true
   },
   "outputs": [],
   "source": [
    "# 导入brain_body.txt文件\n",
    "df3 = pd.read_csv('./data/brain_body.txt', sep = '\\t')\n",
    "print(df3.head())\n",
    "print('----------------------------------------------------')\n",
    "df4 = pd.read_table('./data/brain_body.txt')\n",
    "print(df4.head())"
   ]
  },
  {
   "cell_type": "markdown",
   "metadata": {
    "ExecuteTime": {
     "end_time": "2018-03-24T14:39:15.565658Z",
     "start_time": "2018-03-24T14:39:15.560513Z"
    },
    "hidden": true
   },
   "source": [
    "**注意**：载入xls或xlsx文件可能会提示你需要安装xlrd包，不然无法载入（在命令提示符窗口输入conda install xlrd或pip install xlrd安装）"
   ]
  },
  {
   "cell_type": "code",
   "execution_count": null,
   "metadata": {
    "ExecuteTime": {
     "end_time": "2018-03-24T15:02:45.791029Z",
     "start_time": "2018-03-24T15:02:45.701292Z"
    },
    "hidden": true
   },
   "outputs": [],
   "source": [
    "# 导入IRIS.xls文件\n",
    "data1 = pd.read_excel('./data/IRIS.xlsx', sheet_name= 'Sheet1')\n",
    "print(data1.head())\n",
    "print('----------------------------------------------------')\n",
    "data2 = pd.read_excel('./data/IRIS.xlsx', sheet_name= 'Sheet2')\n",
    "print(data2.head())"
   ]
  },
  {
   "cell_type": "markdown",
   "metadata": {
    "ExecuteTime": {
     "end_time": "2018-03-24T14:41:13.644320Z",
     "start_time": "2018-03-24T14:41:13.639637Z"
    },
    "hidden": true
   },
   "source": [
    "**中文编码问题**"
   ]
  },
  {
   "cell_type": "code",
   "execution_count": null,
   "metadata": {
    "ExecuteTime": {
     "end_time": "2018-03-24T15:03:16.053806Z",
     "start_time": "2018-03-24T15:03:16.019183Z"
    },
    "hidden": true
   },
   "outputs": [],
   "source": [
    "# 导入datacsv文件\n",
    "data3 = pd.read_csv('./data/data.csv')"
   ]
  },
  {
   "cell_type": "code",
   "execution_count": null,
   "metadata": {
    "ExecuteTime": {
     "end_time": "2018-03-24T15:03:26.324244Z",
     "start_time": "2018-03-24T15:03:26.267092Z"
    },
    "hidden": true
   },
   "outputs": [],
   "source": [
    "data4 = pd.read_csv('./data/data.csv', encoding = 'gb2312')\n",
    "data4.head()"
   ]
  },
  {
   "cell_type": "markdown",
   "metadata": {
    "hidden": true
   },
   "source": [
    "**查看和检测数据的方法**\n",
    "![图片](./image/image1.png)"
   ]
  },
  {
   "cell_type": "markdown",
   "metadata": {
    "ExecuteTime": {
     "end_time": "2018-03-24T15:07:54.203802Z",
     "start_time": "2018-03-24T15:07:54.197314Z"
    },
    "hidden": true
   },
   "source": [
    "**创建测试对象**·\n",
    "![图片](./image/image2.png)"
   ]
  },
  {
   "cell_type": "markdown",
   "metadata": {
    "hidden": true
   },
   "source": [
    "**导入数据**\n",
    "![图片](./image/image3.png)"
   ]
  },
  {
   "cell_type": "markdown",
   "metadata": {
    "ExecuteTime": {
     "end_time": "2018-03-24T15:08:16.406132Z",
     "start_time": "2018-03-24T15:08:16.401121Z"
    },
    "hidden": true
   },
   "source": [
    "**输出数据**\n",
    "![图片](./image/image4.png)"
   ]
  },
  {
   "cell_type": "markdown",
   "metadata": {
    "heading_collapsed": true
   },
   "source": [
    "### 缺失数据"
   ]
  },
  {
   "cell_type": "markdown",
   "metadata": {
    "hidden": true
   },
   "source": [
    "在Python中，表示为NaN的数据为缺失数据，有着几种表达方法：\n",
    "* None\n",
    "* np.nan"
   ]
  },
  {
   "cell_type": "code",
   "execution_count": null,
   "metadata": {
    "ExecuteTime": {
     "end_time": "2018-03-24T15:26:42.949064Z",
     "start_time": "2018-03-24T15:26:42.941042Z"
    },
    "hidden": true
   },
   "outputs": [],
   "source": [
    "pd.Series([1, np.nan, 2, None])"
   ]
  },
  {
   "cell_type": "markdown",
   "metadata": {
    "hidden": true
   },
   "source": [
    "#### 空值操作\n",
    "\n",
    "* isnull():生成指示缺失值的布尔编码\n",
    "* notnull()：isnull()的反面\n",
    "* dropna():删除空值\n",
    "* fillna():填充空值\n",
    "* isnull():返回数据的过滤版本\n",
    "* fillna()：返回填充或估算缺失值的数据副本"
   ]
  },
  {
   "cell_type": "code",
   "execution_count": null,
   "metadata": {
    "ExecuteTime": {
     "end_time": "2018-03-24T15:31:37.473021Z",
     "start_time": "2018-03-24T15:31:37.465500Z"
    },
    "hidden": true
   },
   "outputs": [],
   "source": [
    "# 检测空值\n",
    "data = pd.Series([1, np.nan, 'hello', None])\n",
    "data.isnull()\n",
    "\n",
    "#data.notnull()"
   ]
  },
  {
   "cell_type": "code",
   "execution_count": null,
   "metadata": {
    "ExecuteTime": {
     "end_time": "2018-03-24T15:41:30.488010Z",
     "start_time": "2018-03-24T15:41:30.428296Z"
    },
    "hidden": true
   },
   "outputs": [],
   "source": [
    "# 删除空值\n",
    "df = pd.DataFrame([[1,      np.nan, 2],\n",
    "                   [2,      3,      5],\n",
    "                   [np.nan, 4,      6]])\n",
    "print(df)\n",
    "print('------------------------')\n",
    "print(df.dropna())\n",
    "print('------------------------')\n",
    "print(df.dropna(axis='columns'))\n",
    "print('------------------------')\n",
    "df[3] = np.nan\n",
    "print(df)\n",
    "print('------------------------')\n",
    "print(df.dropna(axis='columns', how='all'))\n",
    "print('------------------------')\n",
    "print(df.dropna(axis='index', thresh=3))"
   ]
  },
  {
   "cell_type": "code",
   "execution_count": null,
   "metadata": {
    "ExecuteTime": {
     "end_time": "2018-03-24T15:48:23.892113Z",
     "start_time": "2018-03-24T15:48:23.859529Z"
    },
    "hidden": true
   },
   "outputs": [],
   "source": [
    "# 填充空值\n",
    "data = pd.Series([1, np.nan, 2, None, 3], index=list('abcde'))\n",
    "print(data)\n",
    "print('------------------------')\n",
    "print(data.fillna(0))   # 将缺失值全部替换成0\n",
    "print('------------------------')\n",
    "data.fillna(method='ffill')   # 将缺失值替换成前一个元素(forward-fill\n",
    "print('------------------------')\n",
    "data.fillna(method='bfill')   # 将缺失值替换成后一个元素(back-fill)\n",
    "print('------------------------')\n",
    "\n",
    "print(df)\n",
    "print('------------------------')\n",
    "print(df.fillna(method='ffill', axis=1))# DataFrame替换指定行列"
   ]
  },
  {
   "cell_type": "markdown",
   "metadata": {
    "ExecuteTime": {
     "end_time": "2018-03-24T16:37:06.787756Z",
     "start_time": "2018-03-24T16:37:06.783745Z"
    }
   },
   "source": [
    "### 分层索引"
   ]
  },
  {
   "cell_type": "markdown",
   "metadata": {},
   "source": [
    "到目前为止，我们主要关注一维和二维数据，分别存储在Pandas的Series和DataFrame对象中。通常超越这一点并存储更高维度的数据（即由多于一个或两个键索引的数据）是有用的。虽然熊猫确实提供Panel和Panel4D原生地处理三维和四维数据（见对象旁白：面板数据），在实践中更为常见的模式是利用分层索引（也被称为多索引）并入多个索引级别在单个索引内。通过这种方式，高维数据可以在熟悉的一维内紧凑地表示Series和二维DataFrame物体。"
   ]
  },
  {
   "cell_type": "code",
   "execution_count": null,
   "metadata": {
    "ExecuteTime": {
     "end_time": "2018-03-24T16:45:36.046168Z",
     "start_time": "2018-03-24T16:45:36.017388Z"
    }
   },
   "outputs": [],
   "source": [
    "# 追踪城市在两个不同年份的人口数据\n",
    "index = [('California', 2000), ('California', 2010),\n",
    "         ('New York', 2000), ('New York', 2010),\n",
    "         ('Texas', 2000), ('Texas', 2010)]\n",
    "populations = [33871648, 37253956,\n",
    "               18976457, 19378102,\n",
    "               20851820, 25145561]\n",
    "pop = pd.Series(populations, index=index)\n",
    "print(pop)\n",
    "print('-------------------------------')\n",
    "\n",
    "#索引\n",
    "print(pop[('California', 2010):('Texas', 2000)])\n",
    "print('-------------------------------')\n",
    "\n",
    "pop[[i for i in pop.index if i[1] == 2010]]"
   ]
  },
  {
   "cell_type": "markdown",
   "metadata": {},
   "source": [
    "**Pandas MultiIndex**：创建多索引"
   ]
  },
  {
   "cell_type": "code",
   "execution_count": null,
   "metadata": {
    "ExecuteTime": {
     "end_time": "2018-03-24T16:47:19.666196Z",
     "start_time": "2018-03-24T16:47:19.618569Z"
    }
   },
   "outputs": [],
   "source": [
    "index = pd.MultiIndex.from_tuples(index)\n",
    "print(index)"
   ]
  },
  {
   "cell_type": "code",
   "execution_count": null,
   "metadata": {
    "ExecuteTime": {
     "end_time": "2018-03-24T16:49:34.821414Z",
     "start_time": "2018-03-24T16:49:34.811387Z"
    }
   },
   "outputs": [],
   "source": [
    "pop = pop.reindex(index)\n",
    "print(pop)\n",
    "print('-------------------------------')\n",
    "# 索引\n",
    "print(pop[:, 2010])"
   ]
  },
  {
   "cell_type": "markdown",
   "metadata": {
    "ExecuteTime": {
     "end_time": "2018-03-24T16:50:57.036025Z",
     "start_time": "2018-03-24T16:50:57.031512Z"
    }
   },
   "source": [
    "**unstack()**:将多重索引的Series转换为传统索引的DataFrame"
   ]
  },
  {
   "cell_type": "code",
   "execution_count": null,
   "metadata": {
    "ExecuteTime": {
     "end_time": "2018-03-24T16:51:23.449296Z",
     "start_time": "2018-03-24T16:51:23.421743Z"
    }
   },
   "outputs": [],
   "source": [
    "pop_df = pop.unstack()\n",
    "pop_df"
   ]
  },
  {
   "cell_type": "markdown",
   "metadata": {},
   "source": [
    "**stack()**:将传统索引的DataFram转换为多重索引的Series"
   ]
  },
  {
   "cell_type": "code",
   "execution_count": null,
   "metadata": {
    "ExecuteTime": {
     "end_time": "2018-03-24T16:52:14.125020Z",
     "start_time": "2018-03-24T16:52:14.115995Z"
    }
   },
   "outputs": [],
   "source": [
    "pop_df.stack()"
   ]
  },
  {
   "cell_type": "markdown",
   "metadata": {
    "heading_collapsed": true
   },
   "source": [
    "### 数据集连接"
   ]
  },
  {
   "cell_type": "markdown",
   "metadata": {
    "hidden": true
   },
   "source": [
    "**方法**\n",
    "* pd.concat()\n",
    "* pd.append()"
   ]
  },
  {
   "cell_type": "code",
   "execution_count": null,
   "metadata": {
    "ExecuteTime": {
     "end_time": "2018-03-24T15:58:41.741934Z",
     "start_time": "2018-03-24T15:58:41.731933Z"
    },
    "hidden": true
   },
   "outputs": [],
   "source": [
    "# numpy的合并\n",
    "x = [1, 2, 3]\n",
    "y = [4, 5, 6]\n",
    "z = [7, 8, 9]\n",
    "print(np.concatenate([x, y, z]))\n",
    "print('----------------')\n",
    "x = [[1, 2],\n",
    "     [3, 4]]\n",
    "print(np.concatenate([x, x], axis=1))"
   ]
  },
  {
   "cell_type": "markdown",
   "metadata": {
    "ExecuteTime": {
     "end_time": "2018-03-24T16:02:25.675312Z",
     "start_time": "2018-03-24T16:02:25.670272Z"
    },
    "hidden": true
   },
   "source": [
    "**pd.concat()**：使用可选的设置逻辑将pandas对象沿特定轴连接起来\n",
    "\n",
    "pd.concat(objs, axis=0, join='outer', join_axes=None, ignore_index=False, keys=None, levels=None, names=None, verify_integrity=False, copy=True)"
   ]
  },
  {
   "cell_type": "code",
   "execution_count": null,
   "metadata": {
    "ExecuteTime": {
     "end_time": "2018-03-24T16:13:28.215013Z",
     "start_time": "2018-03-24T16:13:28.182925Z"
    },
    "hidden": true
   },
   "outputs": [],
   "source": [
    "ser1 = pd.Series(['A', 'B', 'C'], index=[1, 2, 3])\n",
    "ser2 = pd.Series(['D', 'E', 'F'], index=[4, 5, 6])\n",
    "print(pd.concat([ser1, ser2]))\n",
    "print('------------------------')\n",
    "print(pd.concat([ser1, ser2], axis = 1))\n",
    "print('------------------------')\n",
    "print(pd.concat([ser1, ser2], ignore_index=True))   #创建一个新的整数索引\n",
    "print('------------------------')\n",
    "print(pd.concat([ser1, ser2], keys = ['ser1', 'ser2']))   #产生分层索引"
   ]
  },
  {
   "cell_type": "markdown",
   "metadata": {
    "hidden": true
   },
   "source": [
    "**pd.append()**:直接连接"
   ]
  },
  {
   "cell_type": "code",
   "execution_count": null,
   "metadata": {
    "ExecuteTime": {
     "end_time": "2018-03-24T16:15:18.391611Z",
     "start_time": "2018-03-24T16:15:18.381583Z"
    },
    "hidden": true
   },
   "outputs": [],
   "source": [
    "ser1 = pd.Series(['A', 'B', 'C'], index=[1, 2, 3])\n",
    "ser2 = pd.Series(['D', 'E', 'F'], index=[4, 5, 6])\n",
    "print(ser1.append(ser2))"
   ]
  },
  {
   "cell_type": "markdown",
   "metadata": {
    "heading_collapsed": true
   },
   "source": [
    "### 数据集合并"
   ]
  },
  {
   "cell_type": "markdown",
   "metadata": {
    "hidden": true
   },
   "source": [
    "**方法**\n",
    "* pd.merge()\n",
    "* pd.join()"
   ]
  },
  {
   "cell_type": "markdown",
   "metadata": {
    "ExecuteTime": {
     "end_time": "2018-03-24T16:18:18.268409Z",
     "start_time": "2018-03-24T16:18:18.263447Z"
    },
    "hidden": true
   },
   "source": [
    "**pd.merge()**：可以实现多中类型的连接：一对一，多对一和多对多合并"
   ]
  },
  {
   "cell_type": "code",
   "execution_count": null,
   "metadata": {
    "ExecuteTime": {
     "end_time": "2018-03-24T16:21:54.524301Z",
     "start_time": "2018-03-24T16:21:54.507758Z"
    },
    "hidden": true
   },
   "outputs": [],
   "source": [
    "import pandas as pd\n",
    "import numpy as np\n",
    "\n",
    "class display(object):\n",
    "\n",
    "    def __init__(self, *args):\n",
    "        self.args = args\n",
    "        \n",
    "    def _repr_html_(self):\n",
    "        return '\\n'.join(self.template.format(a, eval(a)._repr_html_())\n",
    "                         for a in self.args)\n",
    "    \n",
    "    def __repr__(self):\n",
    "        return '\\n\\n'.join(a + '\\n' + repr(eval(a))\n",
    "                           for a in self.args)"
   ]
  },
  {
   "cell_type": "code",
   "execution_count": null,
   "metadata": {
    "ExecuteTime": {
     "end_time": "2018-03-24T16:22:43.823529Z",
     "start_time": "2018-03-24T16:22:43.787433Z"
    },
    "hidden": true
   },
   "outputs": [],
   "source": [
    "# 一对一\n",
    "df1 = pd.DataFrame({'employee': ['Bob', 'Jake', 'Lisa', 'Sue'],\n",
    "                    'group': ['Accounting', 'Engineering', 'Engineering', 'HR']})\n",
    "df2 = pd.DataFrame({'employee': ['Lisa', 'Bob', 'Jake', 'Sue'],\n",
    "                    'hire_date': [2004, 2008, 2012, 2014]})\n",
    "df3 = pd.merge(df1, df2)\n",
    "display('df1', 'df2', 'df3')"
   ]
  },
  {
   "cell_type": "code",
   "execution_count": null,
   "metadata": {
    "ExecuteTime": {
     "end_time": "2018-03-24T16:24:15.430241Z",
     "start_time": "2018-03-24T16:24:15.391137Z"
    },
    "hidden": true
   },
   "outputs": [],
   "source": [
    "# 多对一\n",
    "df4 = pd.DataFrame({'group': ['Accounting', 'Engineering', 'HR'],\n",
    "                    'supervisor': ['Carly', 'Guido', 'Steve']})\n",
    "display('df3', 'df4', 'pd.merge(df3, df4)')"
   ]
  },
  {
   "cell_type": "code",
   "execution_count": null,
   "metadata": {
    "ExecuteTime": {
     "end_time": "2018-03-24T16:24:58.639924Z",
     "start_time": "2018-03-24T16:24:58.601320Z"
    },
    "hidden": true
   },
   "outputs": [],
   "source": [
    "# 多对多\n",
    "df5 = pd.DataFrame({'group': ['Accounting', 'Accounting',\n",
    "                              'Engineering', 'Engineering', 'HR', 'HR'],\n",
    "                    'skills': ['math', 'spreadsheets', 'coding', 'linux',\n",
    "                               'spreadsheets', 'organization']})\n",
    "display('df1', 'df5', \"pd.merge(df1, df5)\")"
   ]
  },
  {
   "cell_type": "code",
   "execution_count": null,
   "metadata": {
    "hidden": true
   },
   "outputs": [],
   "source": []
  }
 ],
 "metadata": {
  "kernelspec": {
   "display_name": "Python 3",
   "language": "python",
   "name": "python3"
  },
  "language_info": {
   "codemirror_mode": {
    "name": "ipython",
    "version": 3
   },
   "file_extension": ".py",
   "mimetype": "text/x-python",
   "name": "python",
   "nbconvert_exporter": "python",
   "pygments_lexer": "ipython3",
   "version": "3.6.3"
  }
 },
 "nbformat": 4,
 "nbformat_minor": 2
}
