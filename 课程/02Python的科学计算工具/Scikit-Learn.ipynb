{
 "cells": [
  {
   "cell_type": "markdown",
   "metadata": {},
   "source": [
    "# Python的科学计算攻击：Scikit-Learn"
   ]
  },
  {
   "cell_type": "markdown",
   "metadata": {},
   "source": [
    "Scikit-Learn提供了一系列机器学习算法的可靠实现版本。Scikit-Learn具有清晰，统一和简化的API，以及非常有用和完整的在线文档。这种一致性的好处是，一旦理解了一种类型模型的Scikit-Learn的基本用法和语法，切换到新模型或算法就非常简单。"
   ]
  },
  {
   "cell_type": "markdown",
   "metadata": {
    "ExecuteTime": {
     "end_time": "2018-03-30T02:11:46.327597Z",
     "start_time": "2018-03-30T02:11:46.324592Z"
    }
   },
   "source": [
    "## 回归"
   ]
  },
  {
   "cell_type": "code",
   "execution_count": null,
   "metadata": {
    "ExecuteTime": {
     "end_time": "2018-03-30T04:15:57.873813Z",
     "start_time": "2018-03-30T04:15:57.096746Z"
    }
   },
   "outputs": [],
   "source": [
    "# 载入数据\n",
    "import pandas as pd\n",
    "import numpy as np\n",
    "\n",
    "data = pd.read_csv('./data/boston.csv')\n",
    "data.head()"
   ]
  },
  {
   "cell_type": "code",
   "execution_count": null,
   "metadata": {
    "ExecuteTime": {
     "end_time": "2018-03-30T04:15:58.159573Z",
     "start_time": "2018-03-30T04:15:57.877323Z"
    }
   },
   "outputs": [],
   "source": [
    "# 可视化\n",
    "import matplotlib.pyplot as plt\n",
    "#matplotlib inline\n",
    "x = data[['RM']]\n",
    "y = data[['MEDV']]\n",
    "plt.scatter(x.values, y.values)\n",
    "plt.show()"
   ]
  },
  {
   "cell_type": "markdown",
   "metadata": {},
   "source": [
    "### 分割数据集"
   ]
  },
  {
   "cell_type": "code",
   "execution_count": null,
   "metadata": {
    "ExecuteTime": {
     "end_time": "2018-03-30T04:15:58.787241Z",
     "start_time": "2018-03-30T04:15:58.162079Z"
    }
   },
   "outputs": [],
   "source": [
    "# 从sklearn.cross_validation导入数据分割器。\n",
    "from sklearn.cross_validation import train_test_split\n",
    "\n",
    "# 随机采样25%的数据构建测试样本，其余作为训练样本。\n",
    "X_train, X_test, y_train, y_test = train_test_split(x, y, random_state=33, test_size=0.25)"
   ]
  },
  {
   "cell_type": "markdown",
   "metadata": {},
   "source": [
    "### 线性回归"
   ]
  },
  {
   "cell_type": "code",
   "execution_count": null,
   "metadata": {
    "ExecuteTime": {
     "end_time": "2018-03-30T04:15:58.904553Z",
     "start_time": "2018-03-30T04:15:58.790250Z"
    }
   },
   "outputs": [],
   "source": [
    "# 从sklearn.linear_model导入LinearRegression\n",
    "from sklearn.linear_model import LinearRegression\n",
    "\n",
    "# 使用默认配置初始化线性回归器LinearRegression\n",
    "lr = LinearRegression()\n",
    "\n",
    "# 使用训练数据进行参数估计\n",
    "lr.fit(X_train, y_train)\n",
    "\n",
    "# 对测试数据进行回归预测\n",
    "lr_y_predict = lr.predict( X_test)\n",
    "\n",
    "# 输出参数\n",
    "print('Slope: %.3f' % lr.coef_[0])\n",
    "print('Intercept: %.3f' % lr.intercept_)\n",
    "\n",
    "# 使用LinearRegression模型自带的评估模块，并输出评估结果。\n",
    "print('The value of default measurement of LinearRegression is', lr.score(X_test, y_test))"
   ]
  },
  {
   "cell_type": "code",
   "execution_count": null,
   "metadata": {
    "ExecuteTime": {
     "end_time": "2018-03-30T04:15:59.063977Z",
     "start_time": "2018-03-30T04:15:58.907562Z"
    }
   },
   "outputs": [],
   "source": [
    "# 可视化\n",
    "plt.plot(X_test, lr_y_predict, 'r-')\n",
    "plt.scatter(x.values[:],y.values[:])\n",
    "plt.xlabel('Average number of rooms [RM]')\n",
    "plt.ylabel('Price in $1000s [MEDV]')\n",
    "\n",
    "#plt.savefig('images/10_07.png', dpi=300)\n",
    "plt.show()"
   ]
  },
  {
   "cell_type": "markdown",
   "metadata": {},
   "source": [
    "### SGD线性回归"
   ]
  },
  {
   "cell_type": "code",
   "execution_count": null,
   "metadata": {
    "ExecuteTime": {
     "end_time": "2018-03-30T04:15:59.088542Z",
     "start_time": "2018-03-30T04:15:59.066987Z"
    }
   },
   "outputs": [],
   "source": [
    "# 从sklearn.linear_model导入SGDRegressor。\n",
    "from sklearn.linear_model import SGDRegressor\n",
    "\n",
    "# 使用默认配置初始化线性回归器SGDRegressor。\n",
    "sgdr = SGDRegressor()\n",
    "# 使用训练数据进行参数估计。\n",
    "sgdr.fit(X_train, y_train)\n",
    "# 对测试数据进行回归预测。\n",
    "sgdr_y_predict = sgdr.predict(X_test)\n",
    "\n",
    "# 输出参数\n",
    "print('Slope: %.3f' % sgdr.coef_[0])\n",
    "print('Intercept: %.3f' % sgdr.intercept_)\n",
    "\n",
    "# 使用SGDRegressor模型自带的评估模块，并输出评估结果。\n",
    "print('The value of default measurement of SGDRegressor is', sgdr.score(X_test, y_test))"
   ]
  },
  {
   "cell_type": "code",
   "execution_count": null,
   "metadata": {
    "ExecuteTime": {
     "end_time": "2018-03-30T04:15:59.352806Z",
     "start_time": "2018-03-30T04:15:59.091049Z"
    }
   },
   "outputs": [],
   "source": [
    "# 可视化\n",
    "plt.plot(X_test, sgdr_y_predict, 'r-')\n",
    "plt.scatter(x.values[:],y.values[:])\n",
    "plt.xlabel('Average number of rooms [RM]')\n",
    "plt.ylabel('Price in $1000s [MEDV]')\n",
    "\n",
    "#plt.savefig('images/10_07.png', dpi=300)\n",
    "plt.show()"
   ]
  },
  {
   "cell_type": "markdown",
   "metadata": {},
   "source": [
    "### 支持向量机（回归）"
   ]
  },
  {
   "cell_type": "code",
   "execution_count": null,
   "metadata": {
    "ExecuteTime": {
     "end_time": "2018-03-30T04:16:00.429522Z",
     "start_time": "2018-03-30T04:15:59.355312Z"
    }
   },
   "outputs": [],
   "source": [
    "# 从sklearn.svm中导入支持向量机（回归）模型。\n",
    "from sklearn.svm import SVR\n",
    "\n",
    "# 使用线性核函数配置的支持向量机进行回归训练，并且对测试样本进行预测。\n",
    "linear_svr = SVR(kernel='linear')\n",
    "linear_svr.fit(X_train, y_train)\n",
    "linear_svr_y_predict = linear_svr.predict(X_test)\n",
    "\n",
    "# 使用多项式核函数配置的支持向量机进行回归训练，并且对测试样本进行预测。\n",
    "poly_svr = SVR(kernel='poly')\n",
    "poly_svr.fit(X_train, y_train)\n",
    "poly_svr_y_predict = poly_svr.predict(X_test)\n",
    "\n",
    "# 使用径向基核函数配置的支持向量机进行回归训练，并且对测试样本进行预测。\n",
    "rbf_svr = SVR(kernel='rbf')\n",
    "rbf_svr.fit(X_train, y_train)\n",
    "rbf_svr_y_predict = rbf_svr.predict(X_test)\n",
    "\n",
    "print('R-squared value of linear SVR is', linear_svr.score(X_test, y_test))\n",
    "print('R-squared value of Poly SVR is', poly_svr.score(X_test, y_test))\n",
    "print('R-squared value of RBF SVR is', rbf_svr.score(X_test, y_test))"
   ]
  },
  {
   "cell_type": "markdown",
   "metadata": {},
   "source": [
    "### K近邻回归器"
   ]
  },
  {
   "cell_type": "code",
   "execution_count": null,
   "metadata": {
    "ExecuteTime": {
     "end_time": "2018-03-30T04:16:00.453587Z",
     "start_time": "2018-03-30T04:16:00.432530Z"
    }
   },
   "outputs": [],
   "source": [
    "# 从sklearn.neighbors导入KNeighborRegressor（K近邻回归器）。\n",
    "from sklearn.neighbors import KNeighborsRegressor\n",
    "\n",
    "# 初始化K近邻回归器，并且调整配置，使得预测的方式为平均回归：weights='uniform'。\n",
    "uni_knr = KNeighborsRegressor(weights='uniform')\n",
    "uni_knr.fit(X_train, y_train)\n",
    "uni_knr_y_predict = uni_knr.predict(X_test)\n",
    "\n",
    "# 初始化K近邻回归器，并且调整配置，使得预测的方式为根据距离加权回归：weights='distance'。\n",
    "dis_knr = KNeighborsRegressor(weights='distance')\n",
    "dis_knr.fit(X_train, y_train)\n",
    "dis_knr_y_predict = dis_knr.predict(X_test)\n",
    "\n",
    "print('R-squared value of uniform-weighted KNeighorRegression:', uni_knr.score(X_test, y_test))\n",
    "print( 'R-squared value of distance-weighted KNeighorRegression:', dis_knr.score(X_test, y_test))"
   ]
  },
  {
   "cell_type": "markdown",
   "metadata": {},
   "source": [
    "### 决策树回归"
   ]
  },
  {
   "cell_type": "code",
   "execution_count": null,
   "metadata": {
    "ExecuteTime": {
     "end_time": "2018-03-30T04:16:00.646999Z",
     "start_time": "2018-03-30T04:16:00.458448Z"
    }
   },
   "outputs": [],
   "source": [
    "# 从sklearn.tree中导入DecisionTreeRegressor。\n",
    "from sklearn.tree import DecisionTreeRegressor\n",
    "# 使用默认配置初始化DecisionTreeRegressor。\n",
    "dtr = DecisionTreeRegressor()\n",
    "# 用波士顿房价的训练数据构建回归树。\n",
    "dtr.fit(X_train, y_train)\n",
    "# 使用默认配置的单一回归树对测试数据进行预测，并将预测值存储在变量dtr_y_predict中。\n",
    "dtr_y_predict = dtr.predict(X_test)\n",
    "\n",
    "print('R-squared value of DecisionTreeRegressor:', dtr.score(X_test, y_test))"
   ]
  },
  {
   "cell_type": "markdown",
   "metadata": {},
   "source": [
    "### 随机森林回归"
   ]
  },
  {
   "cell_type": "code",
   "execution_count": null,
   "metadata": {
    "ExecuteTime": {
     "end_time": "2018-03-30T04:16:00.816877Z",
     "start_time": "2018-03-30T04:16:00.650009Z"
    }
   },
   "outputs": [],
   "source": [
    "# 从sklearn.ensemble中导入RandomForestRegressor、ExtraTreesGressor以及GradientBoostingRegressor。\n",
    "from sklearn.ensemble import RandomForestRegressor, ExtraTreesRegressor, GradientBoostingRegressor\n",
    "\n",
    "# 使用RandomForestRegressor训练模型，并对测试数据做出预测，结果存储在变量rfr_y_predict中。\n",
    "rfr = RandomForestRegressor()\n",
    "rfr.fit(X_train, y_train)\n",
    "rfr_y_predict = rfr.predict(X_test)\n",
    "\n",
    "# 使用ExtraTreesRegressor训练模型，并对测试数据做出预测，结果存储在变量etr_y_predict中。\n",
    "etr = ExtraTreesRegressor()\n",
    "etr.fit(X_train, y_train)\n",
    "etr_y_predict = etr.predict(X_test)\n",
    "\n",
    "# 使用GradientBoostingRegressor训练模型，并对测试数据做出预测，结果存储在变量gbr_y_predict中。\n",
    "gbr = GradientBoostingRegressor()\n",
    "gbr.fit(X_train, y_train)\n",
    "gbr_y_predict = gbr.predict(X_test)\n",
    "\n",
    "print('R-squared value of RandomForestRegressor:', rfr.score(X_test, y_test))\n",
    "print('R-squared value of ExtraTreesRegessor:', etr.score(X_test, y_test))\n",
    "print('R-squared value of GradientBoostingRegressor:', gbr.score(X_test, y_test))"
   ]
  },
  {
   "cell_type": "markdown",
   "metadata": {},
   "source": [
    "## 分类"
   ]
  },
  {
   "cell_type": "code",
   "execution_count": null,
   "metadata": {
    "ExecuteTime": {
     "end_time": "2018-03-30T04:16:00.865004Z",
     "start_time": "2018-03-30T04:16:00.819885Z"
    }
   },
   "outputs": [],
   "source": [
    "# 导入数据\n",
    "iris = pd.read_csv('./data/iris.csv')\n",
    "# 去重\n",
    "print(iris.drop_duplicates(['species']))\n",
    "\n",
    "# 显示数据\n",
    "iris.head()"
   ]
  },
  {
   "cell_type": "code",
   "execution_count": null,
   "metadata": {
    "ExecuteTime": {
     "end_time": "2018-03-30T04:16:00.956361Z",
     "start_time": "2018-03-30T04:16:00.867511Z"
    }
   },
   "outputs": [],
   "source": [
    "# 编码\n",
    "species_mapping = {'setosa': 0,\n",
    "                  'versicolor': 1,\n",
    "                  'virginica': 2}\n",
    "iris['species'] = iris['species'].map(species_mapping)\n",
    "\n",
    "iris.drop_duplicates(['species'])"
   ]
  },
  {
   "cell_type": "code",
   "execution_count": null,
   "metadata": {
    "ExecuteTime": {
     "end_time": "2018-03-30T04:16:01.204507Z",
     "start_time": "2018-03-30T04:16:00.960854Z"
    }
   },
   "outputs": [],
   "source": [
    "# 可视化\n",
    "iris_0 = iris.loc[iris['species'] == 0][['sepal_length', 'sepal_width']]\n",
    "iris_1 = iris.loc[iris['species'] == 1][['sepal_length', 'sepal_width']]\n",
    "\n",
    "plt.scatter(iris_0['sepal_length'],iris_0['sepal_width'])\n",
    "plt.scatter(iris_1['sepal_length'],iris_1['sepal_width'])\n",
    "plt.show()"
   ]
  },
  {
   "cell_type": "markdown",
   "metadata": {},
   "source": [
    "### 分割数据集"
   ]
  },
  {
   "cell_type": "code",
   "execution_count": null,
   "metadata": {
    "ExecuteTime": {
     "end_time": "2018-03-30T04:16:01.218544Z",
     "start_time": "2018-03-30T04:16:01.207513Z"
    }
   },
   "outputs": [],
   "source": [
    "# 从sklearn.cross_validation导入数据分割器。\n",
    "from sklearn.cross_validation import train_test_split\n",
    "\n",
    "x = iris.iloc[:100, 0:1]\n",
    "y = iris.iloc[:100, -1]\n",
    "# 随机采样25%的数据构建测试样本，其余作为训练样本。\n",
    "X_train, X_test, y_train, y_test = train_test_split(x, y, random_state=33, test_size=0.25)"
   ]
  },
  {
   "cell_type": "markdown",
   "metadata": {},
   "source": [
    "### 感知器"
   ]
  },
  {
   "cell_type": "code",
   "execution_count": null,
   "metadata": {
    "ExecuteTime": {
     "end_time": "2018-03-30T04:16:01.315922Z",
     "start_time": "2018-03-30T04:16:01.221054Z"
    }
   },
   "outputs": [],
   "source": [
    "# 从sklearn.linear_model导入Perceptron\n",
    "from sklearn.linear_model import Perceptron\n",
    "\n",
    "# 使用默认配置初始化线性回归器LinearRegression\n",
    "ppn = Perceptron(n_iter=40, eta0=0.1, random_state=0)\n",
    "\n",
    "# 使用训练数据进行参数估计\n",
    "ppn.fit(X_train, y_train)\n",
    "\n",
    "# 对测试数据进行回归预测\n",
    "y_predict = lr.predict( X_test)\n",
    "\n",
    "# 使用感知器模型自带的评分函数score获得模型在测试集上的准确性结果。\n",
    "print('Accuracy of Perceptron Classifier:', ppn.score(X_test, y_test))"
   ]
  },
  {
   "cell_type": "markdown",
   "metadata": {},
   "source": [
    "### 逻辑回归"
   ]
  },
  {
   "cell_type": "code",
   "execution_count": null,
   "metadata": {
    "ExecuteTime": {
     "end_time": "2018-03-30T04:16:01.462705Z",
     "start_time": "2018-03-30T04:16:01.318473Z"
    }
   },
   "outputs": [],
   "source": [
    "# 从sklearn.linear_model里导入LogisticRegression与SGDClassifier。\n",
    "from sklearn.linear_model import LogisticRegression\n",
    "from sklearn.linear_model import SGDClassifier\n",
    "\n",
    "# 初始化LogisticRegression与SGDClassifier。\n",
    "lr = LogisticRegression()\n",
    "sgdc = SGDClassifier()\n",
    "\n",
    "# 调用LogisticRegression中的fit函数/模块用来训练模型参数。\n",
    "lr.fit(X_train, y_train)\n",
    "# 使用训练好的模型lr对X_test进行预测，结果储存在变量lr_y_predict中。\n",
    "lr_y_predict = lr.predict(X_test)\n",
    "\n",
    "# 调用SGDClassifier中的fit函数/模块用来训练模型参数。\n",
    "sgdc.fit(X_train, y_train)\n",
    "# 使用训练好的模型sgdc对X_test进行预测，结果储存在变量sgdc_y_predict中。\n",
    "sgdc_y_predict = sgdc.predict(X_test)\n",
    "\n",
    "# 使用逻辑斯蒂回归模型自带的评分函数score获得模型在测试集上的准确性结果。\n",
    "print('Accuracy of LR Classifier:', lr.score(X_test, y_test))\n",
    " # 使用随机梯度下降模型自带的评分函数score获得模型在测试集上的准确性结果。\n",
    "print('Accuarcy of SGD Classifier:', sgdc.score(X_test, y_test))"
   ]
  },
  {
   "cell_type": "markdown",
   "metadata": {},
   "source": [
    "### 支持向量机分类器"
   ]
  },
  {
   "cell_type": "code",
   "execution_count": null,
   "metadata": {
    "ExecuteTime": {
     "end_time": "2018-03-30T04:16:01.601634Z",
     "start_time": "2018-03-30T04:16:01.465212Z"
    }
   },
   "outputs": [],
   "source": [
    "# 从sklearn.svm里导入基于线性假设的支持向量机分类器LinearSVC。\n",
    "from sklearn.svm import LinearSVC\n",
    "\n",
    "# 初始化线性假设的支持向量机分类器LinearSVC。\n",
    "lsvc = LinearSVC()\n",
    "#进行模型训练\n",
    "lsvc.fit(X_train, y_train)\n",
    "# 利用训练好的模型对测试样本的数字类别进行预测，预测结果储存在变量y_predict中。\n",
    "y_predict = lsvc.predict(X_test)\n",
    "\n",
    "# 使用模型自带的评估函数进行准确性测评。\n",
    "print('The Accuracy of Linear SVC is', lsvc.score(X_test, y_test))"
   ]
  },
  {
   "cell_type": "markdown",
   "metadata": {},
   "source": [
    "### 朴素贝叶斯模型"
   ]
  },
  {
   "cell_type": "code",
   "execution_count": null,
   "metadata": {
    "ExecuteTime": {
     "end_time": "2018-03-30T04:16:01.782249Z",
     "start_time": "2018-03-30T04:16:01.605105Z"
    }
   },
   "outputs": [],
   "source": [
    "# 从sklearn.naive_bayes里导入朴素贝叶斯模型。\n",
    "from sklearn.naive_bayes import MultinomialNB\n",
    "\n",
    "# 从使用默认配置初始化朴素贝叶斯模型。\n",
    "mnb = MultinomialNB()\n",
    "# 利用训练数据对模型参数进行估计。\n",
    "mnb.fit(X_train, y_train)\n",
    "# 对测试样本进行类别预测，结果存储在变量y_predict中。\n",
    "y_predict = mnb.predict(X_test)\n",
    "\n",
    "print('The accuracy of Naive Bayes Classifier is', mnb.score(X_test, y_test))"
   ]
  },
  {
   "cell_type": "markdown",
   "metadata": {},
   "source": [
    "### KNN分类器"
   ]
  },
  {
   "cell_type": "code",
   "execution_count": null,
   "metadata": {
    "ExecuteTime": {
     "end_time": "2018-03-30T04:16:01.883453Z",
     "start_time": "2018-03-30T04:16:01.784754Z"
    }
   },
   "outputs": [],
   "source": [
    "# 从sklearn.neighbors里选择导入KNeighborsClassifier，即K近邻分类器。\n",
    "from sklearn.neighbors import KNeighborsClassifier\n",
    "\n",
    "\n",
    "# 使用K近邻分类器对测试数据进行类别预测，预测结果储存在变量y_predict中。\n",
    "knc = KNeighborsClassifier()\n",
    "knc.fit(X_train, y_train)\n",
    "y_predict = knc.predict(X_test)\n",
    "\n",
    "# 使用模型自带的评估函数进行准确性测评。\n",
    "print('The accuracy of K-Nearest Neighbor Classifier is', knc.score(X_test, y_test))"
   ]
  },
  {
   "cell_type": "markdown",
   "metadata": {},
   "source": [
    "### 决策树"
   ]
  },
  {
   "cell_type": "code",
   "execution_count": null,
   "metadata": {
    "ExecuteTime": {
     "end_time": "2018-03-30T04:16:01.959580Z",
     "start_time": "2018-03-30T04:16:01.886436Z"
    }
   },
   "outputs": [],
   "source": [
    "# 从sklearn.tree中导入决策树分类器。\n",
    "from sklearn.tree import DecisionTreeClassifier\n",
    "# 使用默认配置初始化决策树分类器。\n",
    "dtc = DecisionTreeClassifier()\n",
    "# 使用分割到的训练数据进行模型学习。\n",
    "dtc.fit(X_train, y_train)\n",
    "# 用训练好的决策树模型对测试特征数据进行预测。\n",
    "y_predict = dtc.predict(X_test)\n",
    "\n",
    "# 使用模型自带的评估函数进行准确性测评。\n",
    "print('The accuracy of DecisionTree Classifier is', dtc.score(X_test, y_test))"
   ]
  },
  {
   "cell_type": "markdown",
   "metadata": {},
   "source": [
    "### 随机森林"
   ]
  },
  {
   "cell_type": "code",
   "execution_count": null,
   "metadata": {
    "ExecuteTime": {
     "end_time": "2018-03-30T04:16:02.063029Z",
     "start_time": "2018-03-30T04:16:01.962561Z"
    }
   },
   "outputs": [],
   "source": [
    "# 使用随机森林分类器进行集成模型的训练以及预测分析。\n",
    "from sklearn.ensemble import RandomForestClassifier\n",
    "\n",
    "rfc = RandomForestClassifier()\n",
    "rfc.fit(X_train, y_train)\n",
    "rfc_y_pred = rfc.predict(X_test)\n",
    "\n",
    "# 输出随机森林分类器在测试集上的分类准确性。\n",
    "print('The accuracy of random forest classifier is', rfc.score(X_test, y_test))"
   ]
  },
  {
   "cell_type": "code",
   "execution_count": null,
   "metadata": {
    "ExecuteTime": {
     "end_time": "2018-03-30T04:16:02.213854Z",
     "start_time": "2018-03-30T04:16:02.065535Z"
    }
   },
   "outputs": [],
   "source": [
    "# 使用梯度提升决策树进行集成模型的训练以及预测分析。\n",
    "from sklearn.ensemble import GradientBoostingClassifier\n",
    "\n",
    "gbc = GradientBoostingClassifier()\n",
    "gbc.fit(X_train, y_train)\n",
    "gbc_y_pred = gbc.predict(X_test)\n",
    "\n",
    "# 输出梯度提升决策树在测试集上的分类准确性。\n",
    "print('The accuracy of gradient tree boosting is', gbc.score(X_test, y_test))"
   ]
  },
  {
   "cell_type": "markdown",
   "metadata": {},
   "source": [
    "## 聚类"
   ]
  },
  {
   "cell_type": "code",
   "execution_count": null,
   "metadata": {
    "ExecuteTime": {
     "end_time": "2018-03-30T04:16:02.457465Z",
     "start_time": "2018-03-30T04:16:02.216361Z"
    }
   },
   "outputs": [],
   "source": [
    "# 生成数据\n",
    "from sklearn.datasets import make_blobs\n",
    "\n",
    "X, y = make_blobs(n_samples=150, \n",
    "                  n_features=2, \n",
    "                  centers=3, \n",
    "                  cluster_std=0.5, \n",
    "                  shuffle=True, \n",
    "                  random_state=0)\n",
    "\n",
    "import matplotlib.pyplot as plt\n",
    "\n",
    "plt.scatter(X[:, 0], X[:, 1], \n",
    "            c='white', marker='o', edgecolor='black', s=50)\n",
    "plt.grid()\n",
    "plt.tight_layout()\n",
    "plt.show()"
   ]
  },
  {
   "cell_type": "markdown",
   "metadata": {},
   "source": [
    "### KMeans"
   ]
  },
  {
   "cell_type": "code",
   "execution_count": null,
   "metadata": {
    "ExecuteTime": {
     "end_time": "2018-03-30T04:16:02.579792Z",
     "start_time": "2018-03-30T04:16:02.460473Z"
    }
   },
   "outputs": [],
   "source": [
    "# 训练模型\n",
    "from sklearn.cluster import KMeans\n",
    "\n",
    "km = KMeans(n_clusters=3, \n",
    "            init='random', \n",
    "            n_init=10, \n",
    "            max_iter=300,\n",
    "            tol=1e-04,\n",
    "            random_state=0)\n",
    "\n",
    "y_km = km.fit_predict(X)"
   ]
  },
  {
   "cell_type": "code",
   "execution_count": null,
   "metadata": {
    "ExecuteTime": {
     "end_time": "2018-03-30T04:16:02.809902Z",
     "start_time": "2018-03-30T04:16:02.582297Z"
    }
   },
   "outputs": [],
   "source": [
    "# 可视化\n",
    "plt.scatter(X[y_km == 0, 0],\n",
    "            X[y_km == 0, 1],\n",
    "            s=50, c='lightgreen',\n",
    "            marker='s', edgecolor='black',\n",
    "            label='cluster 1')\n",
    "plt.scatter(X[y_km == 1, 0],\n",
    "            X[y_km == 1, 1],\n",
    "            s=50, c='orange',\n",
    "            marker='o', edgecolor='black',\n",
    "            label='cluster 2')\n",
    "plt.scatter(X[y_km == 2, 0],\n",
    "            X[y_km == 2, 1],\n",
    "            s=50, c='lightblue',\n",
    "            marker='v', edgecolor='black',\n",
    "            label='cluster 3')\n",
    "plt.scatter(km.cluster_centers_[:, 0],\n",
    "            km.cluster_centers_[:, 1],\n",
    "            s=250, marker='*',\n",
    "            c='red', edgecolor='black',\n",
    "            label='centroids')\n",
    "plt.legend(scatterpoints=1)\n",
    "plt.grid()\n",
    "plt.tight_layout()\n",
    "plt.show()"
   ]
  },
  {
   "cell_type": "code",
   "execution_count": null,
   "metadata": {},
   "outputs": [],
   "source": []
  }
 ],
 "metadata": {
  "kernelspec": {
   "display_name": "Python 3",
   "language": "python",
   "name": "python3"
  },
  "language_info": {
   "codemirror_mode": {
    "name": "ipython",
    "version": 3
   },
   "file_extension": ".py",
   "mimetype": "text/x-python",
   "name": "python",
   "nbconvert_exporter": "python",
   "pygments_lexer": "ipython3",
   "version": "3.6.3"
  }
 },
 "nbformat": 4,
 "nbformat_minor": 2
}
