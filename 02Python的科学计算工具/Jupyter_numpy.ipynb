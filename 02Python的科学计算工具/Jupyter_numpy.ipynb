{
 "cells": [
  {
   "cell_type": "markdown",
   "metadata": {},
   "source": [
    "# Python 中的科学计算工具"
   ]
  },
  {
   "cell_type": "markdown",
   "metadata": {},
   "source": [
    "## 课程简介"
   ]
  },
  {
   "cell_type": "markdown",
   "metadata": {},
   "source": [
    "用 Python 进行科学计算时有很多常用的工具，比如Jupyter Notebooks、Numpy、Scipy、pandas、Matplotlib和sklearn等，本节对其中将要用到的部分进行介绍，为之后学习作准备。"
   ]
  },
  {
   "cell_type": "markdown",
   "metadata": {},
   "source": [
    "## 学习目标"
   ]
  },
  {
   "cell_type": "markdown",
   "metadata": {},
   "source": [
    "* 学习 Jupyter Notebooks 的基础使用方式\n",
    "* 了解 Numpy 数组的创建和基础操作\n",
    "* 了解 Scipy 稀疏矩阵的创建和格式转换\n",
    "* 了解 pandas对数据进行处理的基本方法\n",
    "* 了解 matplotlib 基本绘图操作\n",
    "* 了解 scikit—learn基本操作，学会应用机器学习算法解决实际问题"
   ]
  },
  {
   "cell_type": "markdown",
   "metadata": {},
   "source": [
    "## Jupyter Notebooks"
   ]
  },
  {
   "cell_type": "markdown",
   "metadata": {},
   "source": [
    "Jupyter Notebook（此前被称为 IPython notebook）是一个交互式笔记本，支持运行 40 多种编程语言。在本文中，我们将介绍 Jupyter notebook 的主要特性，以及为什么对于希望编写漂亮的交互式文档的人来说是一个强大工具。"
   ]
  },
  {
   "cell_type": "markdown",
   "metadata": {
    "ExecuteTime": {
     "end_time": "2018-03-22T15:25:36.048806Z",
     "start_time": "2018-03-22T15:25:36.015425Z"
    }
   },
   "source": [
    "**优点**\n",
    "* 基于过程\n",
    "* Python\n",
    "* Hackable:计算+文档的混合体\n",
    "\n",
    "**缺点**\n",
    "* 计算语法过于复杂"
   ]
  },
  {
   "cell_type": "markdown",
   "metadata": {},
   "source": [
    "### 访问文档"
   ]
  },
  {
   "cell_type": "code",
   "execution_count": null,
   "metadata": {
    "ExecuteTime": {
     "end_time": "2018-03-22T13:53:17.905226Z",
     "start_time": "2018-03-22T13:53:17.884851Z"
    }
   },
   "outputs": [],
   "source": [
    "# help()方法\n",
    "help(len)\n",
    "\n",
    "# 利用?\n",
    "len?\n",
    "\n",
    "# L = [1,2,3]\n",
    "\n",
    "# L.insert?\n",
    "\n",
    "# L?"
   ]
  },
  {
   "cell_type": "code",
   "execution_count": null,
   "metadata": {
    "ExecuteTime": {
     "end_time": "2018-03-22T13:50:46.130250Z",
     "start_time": "2018-03-22T13:50:46.112858Z"
    }
   },
   "outputs": [],
   "source": [
    "def square(a):\n",
    "    \"\"\"Return the square of a.\"\"\"\n",
    "    return a ** 2\n",
    "\n",
    "square?\n",
    "\n",
    "# square??"
   ]
  },
  {
   "cell_type": "code",
   "execution_count": null,
   "metadata": {},
   "outputs": [],
   "source": [
    "# TAB键\n",
    "L.\n",
    "\n",
    "# L.app\n",
    "\n",
    "# L._\n",
    "\n",
    "# import \n",
    "\n",
    "# from numpy import ar"
   ]
  },
  {
   "cell_type": "code",
   "execution_count": null,
   "metadata": {
    "ExecuteTime": {
     "end_time": "2018-03-22T13:57:38.932043Z",
     "start_time": "2018-03-22T13:57:38.923596Z"
    }
   },
   "outputs": [],
   "source": [
    "# *\n",
    "*Warning?\n",
    "\n",
    "# str.*find*?"
   ]
  },
  {
   "cell_type": "markdown",
   "metadata": {},
   "source": [
    "### 快捷键"
   ]
  },
  {
   "cell_type": "markdown",
   "metadata": {},
   "source": [
    "见Help下的Keyboard Shortcuts"
   ]
  },
  {
   "cell_type": "markdown",
   "metadata": {
    "ExecuteTime": {
     "end_time": "2018-03-22T13:59:26.808993Z",
     "start_time": "2018-03-22T13:59:26.801117Z"
    }
   },
   "source": [
    "### 魔术指令"
   ]
  },
  {
   "cell_type": "markdown",
   "metadata": {
    "ExecuteTime": {
     "end_time": "2018-03-22T14:02:32.526354Z",
     "start_time": "2018-03-22T14:02:32.517076Z"
    }
   },
   "source": [
    "* %run 运行py文件\n",
    "* %timeit 计算代码运行时间\n",
    "* %%timeit 计算单元格运行时间\n",
    "* ......"
   ]
  },
  {
   "cell_type": "markdown",
   "metadata": {
    "ExecuteTime": {
     "end_time": "2018-03-22T14:18:34.724264Z",
     "start_time": "2018-03-22T14:18:34.714434Z"
    }
   },
   "source": [
    "**%run**"
   ]
  },
  {
   "cell_type": "code",
   "execution_count": null,
   "metadata": {
    "ExecuteTime": {
     "end_time": "2018-03-22T14:21:51.207012Z",
     "start_time": "2018-03-22T14:21:51.188218Z"
    },
    "code_folding": []
   },
   "outputs": [],
   "source": [
    "# file:myscript.py\n",
    "def square(x):\n",
    "    \"\"\"square a number\"\"\"\n",
    "    return x ** 2\n",
    "\n",
    "for N in range(1, 4):\n",
    "    print(N, \"squared is\", square(N))"
   ]
  },
  {
   "cell_type": "code",
   "execution_count": null,
   "metadata": {
    "ExecuteTime": {
     "end_time": "2018-03-22T14:21:51.660858Z",
     "start_time": "2018-03-22T14:21:51.656674Z"
    }
   },
   "outputs": [],
   "source": [
    "%run myscript.py"
   ]
  },
  {
   "cell_type": "markdown",
   "metadata": {},
   "source": [
    "**%timeit**"
   ]
  },
  {
   "cell_type": "code",
   "execution_count": null,
   "metadata": {
    "ExecuteTime": {
     "end_time": "2018-03-22T14:21:57.927393Z",
     "start_time": "2018-03-22T14:21:55.882426Z"
    }
   },
   "outputs": [],
   "source": [
    "%time"
   ]
  },
  {
   "cell_type": "markdown",
   "metadata": {},
   "source": [
    "**%%timeit**"
   ]
  },
  {
   "cell_type": "code",
   "execution_count": null,
   "metadata": {
    "ExecuteTime": {
     "end_time": "2018-03-22T14:22:19.594082Z",
     "start_time": "2018-03-22T14:22:17.099244Z"
    }
   },
   "outputs": [],
   "source": [
    "%%timeit\n",
    "L = []\n",
    "for n in range(1000):\n",
    "    L.append(n ** 2)"
   ]
  },
  {
   "cell_type": "code",
   "execution_count": null,
   "metadata": {
    "ExecuteTime": {
     "end_time": "2018-03-22T14:24:35.383969Z",
     "start_time": "2018-03-22T14:24:35.374548Z"
    }
   },
   "outputs": [],
   "source": [
    "%timeit?"
   ]
  },
  {
   "cell_type": "markdown",
   "metadata": {},
   "source": [
    "### In和Out"
   ]
  },
  {
   "cell_type": "markdown",
   "metadata": {},
   "source": [
    "* In:输出当前回话前所有输入\n",
    "* Out:输出当前回话前所有输出"
   ]
  },
  {
   "cell_type": "code",
   "execution_count": null,
   "metadata": {
    "ExecuteTime": {
     "end_time": "2018-03-22T14:30:29.257171Z",
     "start_time": "2018-03-22T14:30:29.246966Z"
    }
   },
   "outputs": [],
   "source": [
    "import math"
   ]
  },
  {
   "cell_type": "code",
   "execution_count": null,
   "metadata": {
    "ExecuteTime": {
     "end_time": "2018-03-22T14:30:29.651095Z",
     "start_time": "2018-03-22T14:30:29.606647Z"
    }
   },
   "outputs": [],
   "source": [
    "math.sin(2)"
   ]
  },
  {
   "cell_type": "code",
   "execution_count": null,
   "metadata": {
    "ExecuteTime": {
     "end_time": "2018-03-22T14:30:29.913804Z",
     "start_time": "2018-03-22T14:30:29.907960Z"
    }
   },
   "outputs": [],
   "source": [
    "math.pi"
   ]
  },
  {
   "cell_type": "code",
   "execution_count": null,
   "metadata": {
    "ExecuteTime": {
     "end_time": "2018-03-22T14:31:38.869117Z",
     "start_time": "2018-03-22T14:31:38.857628Z"
    }
   },
   "outputs": [],
   "source": [
    "print(In)\n",
    "\n",
    "# print(Out)"
   ]
  },
  {
   "cell_type": "markdown",
   "metadata": {},
   "source": [
    "### Shell命令"
   ]
  },
  {
   "cell_type": "markdown",
   "metadata": {},
   "source": [
    "**调用**"
   ]
  },
  {
   "cell_type": "code",
   "execution_count": null,
   "metadata": {
    "ExecuteTime": {
     "end_time": "2018-03-22T14:33:10.992212Z",
     "start_time": "2018-03-22T14:33:10.869642Z"
    }
   },
   "outputs": [],
   "source": [
    "!ls"
   ]
  },
  {
   "cell_type": "code",
   "execution_count": null,
   "metadata": {
    "ExecuteTime": {
     "end_time": "2018-03-22T14:33:23.883584Z",
     "start_time": "2018-03-22T14:33:23.760025Z"
    }
   },
   "outputs": [],
   "source": [
    "!pwd"
   ]
  },
  {
   "cell_type": "code",
   "execution_count": null,
   "metadata": {
    "ExecuteTime": {
     "end_time": "2018-03-22T14:33:34.089557Z",
     "start_time": "2018-03-22T14:33:33.969791Z"
    }
   },
   "outputs": [],
   "source": [
    "!echo \"printing from the shell\""
   ]
  },
  {
   "cell_type": "markdown",
   "metadata": {
    "ExecuteTime": {
     "end_time": "2018-03-22T14:34:36.707261Z",
     "start_time": "2018-03-22T14:34:36.702560Z"
    }
   },
   "source": [
    "**赋值**"
   ]
  },
  {
   "cell_type": "code",
   "execution_count": null,
   "metadata": {
    "ExecuteTime": {
     "end_time": "2018-03-22T14:35:01.218888Z",
     "start_time": "2018-03-22T14:35:01.199304Z"
    }
   },
   "outputs": [],
   "source": [
    "contents = !ls\n",
    "print(contents)"
   ]
  },
  {
   "cell_type": "code",
   "execution_count": null,
   "metadata": {
    "ExecuteTime": {
     "end_time": "2018-03-22T14:35:51.584624Z",
     "start_time": "2018-03-22T14:35:51.568056Z"
    }
   },
   "outputs": [],
   "source": [
    "directory = !pwd\n",
    "print(directory)"
   ]
  },
  {
   "cell_type": "code",
   "execution_count": null,
   "metadata": {
    "ExecuteTime": {
     "end_time": "2018-03-22T15:18:44.394085Z",
     "start_time": "2018-03-22T15:18:44.256253Z"
    },
    "scrolled": true
   },
   "outputs": [],
   "source": [
    "ls"
   ]
  },
  {
   "cell_type": "code",
   "execution_count": null,
   "metadata": {},
   "outputs": [],
   "source": []
  },
  {
   "cell_type": "markdown",
   "metadata": {},
   "source": [
    "## Numpy 数组"
   ]
  },
  {
   "cell_type": "markdown",
   "metadata": {},
   "source": [
    "NumPy(Numeric Python)系统是Python的一种开源的数值计算扩展。这种工具可用来存储和处理大型矩阵，比Python自身的嵌套列表（nested list structure)结构要高效的多（该结构也可以用来表示矩阵（matrix））。"
   ]
  },
  {
   "cell_type": "code",
   "execution_count": null,
   "metadata": {
    "ExecuteTime": {
     "end_time": "2018-03-22T15:30:35.504199Z",
     "start_time": "2018-03-22T15:30:35.484599Z"
    }
   },
   "outputs": [],
   "source": [
    "import numpy as np\n",
    "np.__version__"
   ]
  },
  {
   "cell_type": "code",
   "execution_count": null,
   "metadata": {
    "ExecuteTime": {
     "end_time": "2018-03-22T15:33:42.222656Z",
     "start_time": "2018-03-22T15:33:42.218682Z"
    }
   },
   "outputs": [],
   "source": [
    "np?"
   ]
  },
  {
   "cell_type": "markdown",
   "metadata": {
    "ExecuteTime": {
     "end_time": "2018-03-22T15:33:56.108577Z",
     "start_time": "2018-03-22T15:33:56.105289Z"
    }
   },
   "source": [
    "### 数组"
   ]
  },
  {
   "cell_type": "code",
   "execution_count": null,
   "metadata": {
    "ExecuteTime": {
     "end_time": "2018-03-22T15:37:25.087849Z",
     "start_time": "2018-03-22T15:37:25.075751Z"
    }
   },
   "outputs": [],
   "source": [
    "import numpy as np\n",
    "\n",
    "# 创建数组\n",
    "np.array([1, 4, 2, 5, 3])\n",
    "\n",
    "# 多维数组\n",
    "np.array([range(i, i + 3) for i in [2, 4, 6]])"
   ]
  },
  {
   "cell_type": "markdown",
   "metadata": {},
   "source": [
    "**常用数组**"
   ]
  },
  {
   "cell_type": "code",
   "execution_count": null,
   "metadata": {
    "ExecuteTime": {
     "end_time": "2018-03-22T15:48:34.133635Z",
     "start_time": "2018-03-22T15:48:34.054783Z"
    }
   },
   "outputs": [],
   "source": [
    "# 全零\n",
    "np.zeros(10, dtype=int)\n",
    "# 全一\n",
    "np.ones((3, 5), dtype=float) \n",
    "\n",
    "# 单位\n",
    "np.eye(3)\n",
    "\n",
    "# 固定\n",
    "np.full((3, 5), 3.14)\n",
    "\n",
    "# 线性序列\n",
    "np.arange(0, 20, 2)\n",
    "\n",
    "# 均匀间隔\n",
    "np.linspace(0, 1, 5)\n",
    "\n",
    "# 0到1随机\n",
    "np.random.random((3, 3))\n",
    "\n",
    "# 标准正太分布随机\n",
    "np.random.normal(0, 1, (3, 3))\n",
    "\n",
    "# 随机整数\n",
    "np.random.randint(0, 10, (3, 3))"
   ]
  },
  {
   "cell_type": "markdown",
   "metadata": {},
   "source": [
    "#### 数组基础"
   ]
  },
  {
   "cell_type": "code",
   "execution_count": null,
   "metadata": {
    "ExecuteTime": {
     "end_time": "2018-03-23T02:10:27.588283Z",
     "start_time": "2018-03-23T02:10:26.216727Z"
    }
   },
   "outputs": [],
   "source": [
    "import numpy as np\n",
    "np.random.seed(0)\n",
    "\n",
    "x1 = np.random.randint(10, size=6)  # 一唯数组\n",
    "x2 = np.random.randint(10, size=(3, 4))  # 二维数组\n",
    "x3 = np.random.randint(10, size=(3, 4, 5))  # 三维数组"
   ]
  },
  {
   "cell_type": "code",
   "execution_count": null,
   "metadata": {
    "ExecuteTime": {
     "end_time": "2018-03-23T02:10:27.637990Z",
     "start_time": "2018-03-23T02:10:27.615707Z"
    }
   },
   "outputs": [],
   "source": [
    "print(\"x3 ndim: \", x3.ndim)  # 维数\n",
    "print(\"x3 shape:\", x3.shape) # 维度\n",
    "print(\"x3 size: \", x3.size)  # 元素个数\n",
    "print(\"dtype:\", x3.dtype)    # 数据类型\n",
    "print(\"itemsize:\", x3.itemsize, \"bytes\")  # 元素大小(字节)\n",
    "print(\"nbytes:\", x3.nbytes, \"bytes\")      # 数组大小(字节)\n"
   ]
  },
  {
   "cell_type": "markdown",
   "metadata": {},
   "source": [
    "**索引**"
   ]
  },
  {
   "cell_type": "code",
   "execution_count": null,
   "metadata": {
    "ExecuteTime": {
     "end_time": "2018-03-23T02:10:36.806643Z",
     "start_time": "2018-03-23T02:10:36.785117Z"
    }
   },
   "outputs": [],
   "source": [
    "x1[1]\n",
    "\n"
   ]
  },
  {
   "cell_type": "code",
   "execution_count": null,
   "metadata": {
    "ExecuteTime": {
     "end_time": "2018-03-23T02:11:15.318025Z",
     "start_time": "2018-03-23T02:11:15.305990Z"
    }
   },
   "outputs": [],
   "source": [
    "x1[0] = 3.12"
   ]
  },
  {
   "cell_type": "markdown",
   "metadata": {},
   "source": [
    "**切片**\n",
    "\n",
    "格式：x[开始：结束：步长]"
   ]
  },
  {
   "cell_type": "code",
   "execution_count": null,
   "metadata": {
    "ExecuteTime": {
     "end_time": "2018-03-23T02:13:38.003548Z",
     "start_time": "2018-03-23T02:13:37.985979Z"
    }
   },
   "outputs": [],
   "source": [
    "x = np.arange(10)\n",
    "\n",
    "x[5:]\n",
    "\n",
    "# x[4:7]\n",
    "\n",
    "# x[::2]\n",
    "\n",
    "# x[1::2]\n",
    "\n",
    "# x[::-1]\n",
    "\n",
    "# x[5::-2]"
   ]
  },
  {
   "cell_type": "markdown",
   "metadata": {},
   "source": [
    "**多维子序列**"
   ]
  },
  {
   "cell_type": "code",
   "execution_count": null,
   "metadata": {
    "ExecuteTime": {
     "end_time": "2018-03-23T02:17:36.545629Z",
     "start_time": "2018-03-23T02:17:36.531659Z"
    }
   },
   "outputs": [],
   "source": [
    "x2\n",
    "\n",
    "x2[:2, :3]  #两行三列\n",
    "\n",
    "x2[:3, ::2] #三行、隔一列\n",
    "\n",
    "x2[::-1, ::-1]"
   ]
  },
  {
   "cell_type": "markdown",
   "metadata": {},
   "source": [
    "**访问数组**"
   ]
  },
  {
   "cell_type": "code",
   "execution_count": null,
   "metadata": {
    "ExecuteTime": {
     "end_time": "2018-03-23T02:18:35.287172Z",
     "start_time": "2018-03-23T02:18:35.276793Z"
    }
   },
   "outputs": [],
   "source": [
    "print(x2[:, 0])\n",
    "\n",
    "print(x2[0, :])\n",
    "\n",
    "print(x2[0])"
   ]
  },
  {
   "cell_type": "markdown",
   "metadata": {},
   "source": [
    "**复制数组**"
   ]
  },
  {
   "cell_type": "code",
   "execution_count": null,
   "metadata": {
    "ExecuteTime": {
     "end_time": "2018-03-23T02:21:40.747127Z",
     "start_time": "2018-03-23T02:21:40.731824Z"
    }
   },
   "outputs": [],
   "source": [
    "# 改变子数组，会改变数组\n",
    "print(x2)\n",
    "\n",
    "x2_sub = x2[:2, :2]\n",
    "print(x2_sub)\n",
    "\n",
    "x2_sub[0, 0] = 99\n",
    "print(x2_sub)\n",
    "\n",
    "print(x2)"
   ]
  },
  {
   "cell_type": "code",
   "execution_count": null,
   "metadata": {
    "ExecuteTime": {
     "end_time": "2018-03-23T02:23:03.803192Z",
     "start_time": "2018-03-23T02:23:03.787501Z"
    }
   },
   "outputs": [],
   "source": [
    "# 通过np.copy()或.copy()方法复制\n",
    "x2 = np.random.randint(10, size=(3, 4))\n",
    "print(x2)\n",
    "\n",
    "x2_sub = np.copy(x2[:2, :2])\n",
    "# x2_sub_copy = x2[:2, :2].copy()\n",
    "print(x2_sub)\n",
    "\n",
    "x2_sub[0, 0] = 99\n",
    "print(x2_sub)\n",
    "\n",
    "print(x2)"
   ]
  },
  {
   "cell_type": "markdown",
   "metadata": {},
   "source": [
    "**数组链接**"
   ]
  },
  {
   "cell_type": "code",
   "execution_count": null,
   "metadata": {
    "ExecuteTime": {
     "end_time": "2018-03-23T02:30:47.709394Z",
     "start_time": "2018-03-23T02:30:47.700422Z"
    }
   },
   "outputs": [],
   "source": [
    "# np.concatenate()\n",
    "x = np.array([1, 2, 3])\n",
    "y = np.array([3, 2, 1])\n",
    "np.concatenate([x, y])\n",
    "\n",
    "grid = np.array([[1, 2, 3],\n",
    "                 [4, 5, 6]])\n",
    "np.concatenate([grid, grid])\n",
    "\n",
    "np.concatenate([grid, grid], axis=1)"
   ]
  },
  {
   "cell_type": "code",
   "execution_count": null,
   "metadata": {
    "ExecuteTime": {
     "end_time": "2018-03-23T02:35:41.997181Z",
     "start_time": "2018-03-23T02:35:41.983195Z"
    }
   },
   "outputs": [],
   "source": [
    "# np.vstack()垂直链接\n",
    "x = np.array([1, 2, 3])\n",
    "grid = np.array([[9, 8, 7],\n",
    "                 [6, 5, 4]])\n",
    "np.vstack([x, grid])"
   ]
  },
  {
   "cell_type": "code",
   "execution_count": null,
   "metadata": {
    "ExecuteTime": {
     "end_time": "2018-03-23T02:36:08.997158Z",
     "start_time": "2018-03-23T02:36:08.980528Z"
    }
   },
   "outputs": [],
   "source": [
    "# np.hstack()水平链接\n",
    "y = np.array([[99],\n",
    "              [99]])\n",
    "np.hstack([grid, y])"
   ]
  },
  {
   "cell_type": "markdown",
   "metadata": {},
   "source": [
    "**数组分割**"
   ]
  },
  {
   "cell_type": "code",
   "execution_count": null,
   "metadata": {
    "ExecuteTime": {
     "end_time": "2018-03-23T02:53:03.561834Z",
     "start_time": "2018-03-23T02:53:03.551133Z"
    },
    "scrolled": true
   },
   "outputs": [],
   "source": [
    "# np.split()\n",
    "x = [1, 2, 3, 99, 99, 3, 2, 1,0]\n",
    "# print(np.split(x, 3))\n",
    "\n",
    "x1, x2, x3 = np.split(x, [1,5])\n",
    "print(x1,x2,x3)"
   ]
  },
  {
   "cell_type": "code",
   "execution_count": null,
   "metadata": {
    "ExecuteTime": {
     "end_time": "2018-03-23T02:40:15.078985Z",
     "start_time": "2018-03-23T02:40:15.063104Z"
    }
   },
   "outputs": [],
   "source": [
    "# np.vsplit()垂直分割\n",
    "grid = np.arange(16).reshape((4, 4))\n",
    "print(grid)\n",
    "\n",
    "upper, lower = np.vsplit(grid, [2])\n",
    "print(upper)\n",
    "print(lower)"
   ]
  },
  {
   "cell_type": "code",
   "execution_count": null,
   "metadata": {
    "ExecuteTime": {
     "end_time": "2018-03-23T09:00:45.687198Z",
     "start_time": "2018-03-23T09:00:45.512031Z"
    }
   },
   "outputs": [],
   "source": [
    "# np.hsplit()水平分割\n",
    "left, right = np.hsplit(grid, [2])\n",
    "print(left)\n",
    "print(right)"
   ]
  },
  {
   "cell_type": "markdown",
   "metadata": {},
   "source": [
    "#### 数组运算"
   ]
  },
  {
   "cell_type": "code",
   "execution_count": null,
   "metadata": {
    "ExecuteTime": {
     "end_time": "2018-03-23T02:54:46.242098Z",
     "start_time": "2018-03-23T02:54:46.220379Z"
    }
   },
   "outputs": [],
   "source": [
    "import numpy as np\n",
    "np.random.seed(0)\n",
    "\n",
    "def compute_reciprocals(values):\n",
    "    output = np.empty(len(values))\n",
    "    for i in range(len(values)):\n",
    "        output[i] = 1.0 / values[i]\n",
    "    return output\n",
    "        \n",
    "values = np.random.randint(1, 10, size=5)\n",
    "compute_reciprocals(values)"
   ]
  },
  {
   "cell_type": "markdown",
   "metadata": {},
   "source": [
    "##### 统计"
   ]
  },
  {
   "cell_type": "markdown",
   "metadata": {},
   "source": [
    "* np.sum():求和\n",
    "* np.min():最小值\n",
    "* np.max():最大值\n",
    "* np.mean():均值"
   ]
  },
  {
   "cell_type": "code",
   "execution_count": null,
   "metadata": {
    "ExecuteTime": {
     "end_time": "2018-03-23T09:29:14.636956Z",
     "start_time": "2018-03-23T09:29:14.556091Z"
    }
   },
   "outputs": [],
   "source": [
    "# 对数组进行操作\n",
    "import numpy as np\n",
    "x = np.array([[5, 10, 15],\n",
    "            [20, 25, 30],\n",
    "            [35, 40, 45]])\n",
    "\n",
    "x.sum()    # 输出'225'\n",
    "x.max()    # 输出'45'\n",
    "x.min()    # 输出'5'\n",
    "x.mean()   # 输出'25.0'\n",
    "\n",
    "# 对行列进行操作\n",
    "x.sum(axis = 1)   #输出‘array([ 30,  75, 120])’\n",
    "\n",
    "x.sum(axis = 0)   #输出'array([60, 75, 90])'"
   ]
  },
  {
   "cell_type": "markdown",
   "metadata": {},
   "source": [
    "##### 矩阵运算"
   ]
  },
  {
   "cell_type": "code",
   "execution_count": null,
   "metadata": {
    "ExecuteTime": {
     "end_time": "2018-03-23T09:35:59.336663Z",
     "start_time": "2018-03-23T09:35:59.307456Z"
    }
   },
   "outputs": [],
   "source": [
    "import numpy as np\n",
    "a = np.array([[1, 2],\n",
    "              [3, 4]])\n",
    "\n",
    "b = np.array([[5, 6],\n",
    "              [7, 8]])\n",
    "\n",
    "# 对应位置元素相乘\n",
    "print(a*b)\n",
    "print('---------------')\n",
    "# 矩阵乘法\n",
    "print (a.dot(b))\n",
    "print('---------------')\n",
    "# 矩阵乘法，同上\n",
    "print (np.dot(a, b))\n",
    "print('---------------')\n",
    "# 矩阵转置\n",
    "c = np.array([[1,2,3,4],[5,6,7,8]])\n",
    "print(c)\n",
    "print('---------------')\n",
    "print(c.T)"
   ]
  },
  {
   "cell_type": "markdown",
   "metadata": {},
   "source": [
    "##### 广播"
   ]
  },
  {
   "cell_type": "code",
   "execution_count": null,
   "metadata": {
    "ExecuteTime": {
     "end_time": "2018-03-23T09:09:25.557862Z",
     "start_time": "2018-03-23T09:09:23.885111Z"
    }
   },
   "outputs": [],
   "source": [
    "import numpy as np\n",
    "a = np.array([0, 1, 2])\n",
    "b = np.array([5, 5, 5])\n",
    "a + b"
   ]
  },
  {
   "cell_type": "code",
   "execution_count": null,
   "metadata": {
    "ExecuteTime": {
     "end_time": "2018-03-23T09:09:57.418653Z",
     "start_time": "2018-03-23T09:09:57.376012Z"
    }
   },
   "outputs": [],
   "source": [
    "a = np.arange(3)\n",
    "b = np.arange(3)[:, np.newaxis]\n",
    "\n",
    "print(a)\n",
    "print(b)"
   ]
  },
  {
   "cell_type": "code",
   "execution_count": null,
   "metadata": {
    "ExecuteTime": {
     "end_time": "2018-03-23T09:10:03.526169Z",
     "start_time": "2018-03-23T09:10:03.473798Z"
    }
   },
   "outputs": [],
   "source": [
    "a + b"
   ]
  },
  {
   "cell_type": "markdown",
   "metadata": {},
   "source": [
    "##### 排序"
   ]
  },
  {
   "cell_type": "code",
   "execution_count": null,
   "metadata": {
    "ExecuteTime": {
     "end_time": "2018-03-23T09:14:30.157686Z",
     "start_time": "2018-03-23T09:14:30.099898Z"
    }
   },
   "outputs": [],
   "source": [
    "# np.sort()\n",
    "x = np.array([2, 1, 4, 3, 5])\n",
    "np.sort(x)\n",
    "\n",
    "# x.sort()\n",
    "# print(x)"
   ]
  },
  {
   "cell_type": "code",
   "execution_count": null,
   "metadata": {
    "ExecuteTime": {
     "end_time": "2018-03-23T09:18:25.045469Z",
     "start_time": "2018-03-23T09:18:25.032946Z"
    }
   },
   "outputs": [],
   "source": [
    "# np.argsort()返回索引\n",
    "x = np.array([2, 1, 4, 3, 5])\n",
    "i = np.argsort(x)\n",
    "print(i)\n",
    "\n",
    "x[i]"
   ]
  },
  {
   "cell_type": "markdown",
   "metadata": {
    "ExecuteTime": {
     "end_time": "2018-03-23T09:18:46.013543Z",
     "start_time": "2018-03-23T09:18:46.000270Z"
    }
   },
   "source": [
    "**按行或列排序**"
   ]
  },
  {
   "cell_type": "code",
   "execution_count": null,
   "metadata": {
    "ExecuteTime": {
     "end_time": "2018-03-23T09:20:20.574587Z",
     "start_time": "2018-03-23T09:20:20.519639Z"
    }
   },
   "outputs": [],
   "source": [
    "rand = np.random.RandomState(42) # 伪随机数\n",
    "X = rand.randint(0, 10, (4, 6))\n",
    "print(X)\n",
    "\n",
    "# 按列排序\n",
    "np.sort(X, axis=0)\n",
    "\n",
    "# # 按行排序\n",
    "# np.sort(X, axis=1)"
   ]
  },
  {
   "cell_type": "code",
   "execution_count": null,
   "metadata": {},
   "outputs": [],
   "source": []
  }
 ],
 "metadata": {
  "kernelspec": {
   "display_name": "Python 3",
   "language": "python",
   "name": "python3"
  },
  "language_info": {
   "codemirror_mode": {
    "name": "ipython",
    "version": 3
   },
   "file_extension": ".py",
   "mimetype": "text/x-python",
   "name": "python",
   "nbconvert_exporter": "python",
   "pygments_lexer": "ipython3",
   "version": "3.6.4"
  },
  "toc": {
   "nav_menu": {},
   "number_sections": true,
   "sideBar": true,
   "skip_h1_title": false,
   "title_cell": "Table of Contents",
   "title_sidebar": "Contents",
   "toc_cell": false,
   "toc_position": {},
   "toc_section_display": true,
   "toc_window_display": false
  },
  "varInspector": {
   "cols": {
    "lenName": 16,
    "lenType": 16,
    "lenVar": 40
   },
   "kernels_config": {
    "python": {
     "delete_cmd_postfix": "",
     "delete_cmd_prefix": "del ",
     "library": "var_list.py",
     "varRefreshCmd": "print(var_dic_list())"
    },
    "r": {
     "delete_cmd_postfix": ") ",
     "delete_cmd_prefix": "rm(",
     "library": "var_list.r",
     "varRefreshCmd": "cat(var_dic_list()) "
    }
   },
   "types_to_exclude": [
    "module",
    "function",
    "builtin_function_or_method",
    "instance",
    "_Feature"
   ],
   "window_display": false
  }
 },
 "nbformat": 4,
 "nbformat_minor": 2
}
