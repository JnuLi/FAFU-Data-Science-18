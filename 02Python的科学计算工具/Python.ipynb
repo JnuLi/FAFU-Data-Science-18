{
 "cells": [
  {
   "cell_type": "markdown",
   "metadata": {},
   "source": [
    "# 数据科学之路：Python快速入门"
   ]
  },
  {
   "cell_type": "markdown",
   "metadata": {},
   "source": [
    "Python语言是一种解释型、面向对象、动态数据类型的高级程序设计语言,如今已成为绝大部分数据分析师的首选数据分析语言。其设计的核心理念是代码的易读性，以及允许编程者通过若干行代码轻松表达想法创意。举个例子，下面是用Python实现的经典的quicksort算法例子："
   ]
  },
  {
   "cell_type": "code",
   "execution_count": null,
   "metadata": {
    "ExecuteTime": {
     "end_time": "2018-03-20T15:54:10.289702Z",
     "start_time": "2018-03-20T15:54:10.276012Z"
    }
   },
   "outputs": [],
   "source": [
    "def quicksort(arr):\n",
    "    if len(arr) <= 1:\n",
    "        return arr\n",
    "    pivot = arr[len(arr) // 2]\n",
    "    left = [x for x in arr if x < pivot]\n",
    "    middle = [x for x in arr if x == pivot]\n",
    "    right = [x for x in arr if x > pivot]\n",
    "    return quicksort(left) + middle + quicksort(right)\n",
    "\n",
    "print(quicksort([9,3,8,19,5,21,13]))\n",
    "# 输出 \"[3, 5, 8, 9, 13, 19, 21]\""
   ]
  },
  {
   "cell_type": "markdown",
   "metadata": {},
   "source": [
    "## Python版本"
   ]
  },
  {
   "cell_type": "markdown",
   "metadata": {},
   "source": [
    "本文所以代码采用Python3.6进行编写，使用**python --version**命令可查看版本。"
   ]
  },
  {
   "cell_type": "markdown",
   "metadata": {},
   "source": [
    "## 基本数据类型"
   ]
  },
  {
   "cell_type": "markdown",
   "metadata": {
    "ExecuteTime": {
     "end_time": "2018-03-20T14:00:04.494160Z",
     "start_time": "2018-03-20T14:00:04.481964Z"
    }
   },
   "source": [
    ">数字：整型(int)和浮点型(float)\n",
    "\n",
    ">布尔：True和Flase\n",
    "\n",
    ">字符串：str"
   ]
  },
  {
   "cell_type": "markdown",
   "metadata": {},
   "source": [
    "**变量**：储存数据类型的工具，通过=进行赋值。"
   ]
  },
  {
   "cell_type": "markdown",
   "metadata": {},
   "source": [
    ">**命名规则**: 大小写字母、数字、下划线和汉字等字符及组合\n",
    "\n",
    ">**注意事项**：大小写敏感、首字符不能是数字、不与保留字相同"
   ]
  },
  {
   "cell_type": "code",
   "execution_count": null,
   "metadata": {
    "ExecuteTime": {
     "end_time": "2018-03-20T15:54:10.374494Z",
     "start_time": "2018-03-20T15:54:10.304701Z"
    }
   },
   "outputs": [],
   "source": [
    "# int\n",
    "abc = 1\n",
    "\n",
    "# float\n",
    "cba = 9.99\n",
    "\n",
    "# booleans\n",
    "true_boolean = True\n",
    "false_boolean = False\n",
    "\n",
    "# string\n",
    "my_name = \"Leandro Tk\""
   ]
  },
  {
   "cell_type": "markdown",
   "metadata": {},
   "source": [
    "## 复合数据类型"
   ]
  },
  {
   "cell_type": "markdown",
   "metadata": {},
   "source": [
    "Python有以下四种复合数据类型：列表（lists）、元组（tuples)、字典（dictionaries）和 集合（sets）。"
   ]
  },
  {
   "cell_type": "markdown",
   "metadata": {},
   "source": [
    "### 列表（list）"
   ]
  },
  {
   "cell_type": "markdown",
   "metadata": {
    "ExecuteTime": {
     "end_time": "2018-03-20T14:14:12.862026Z",
     "start_time": "2018-03-20T14:14:12.854226Z"
    }
   },
   "source": [
    "列表是Python中的数组，但是列表长度可变，且列表中的元素可变，能包含不同类型元素。"
   ]
  },
  {
   "cell_type": "code",
   "execution_count": null,
   "metadata": {
    "ExecuteTime": {
     "end_time": "2018-03-20T15:54:10.468554Z",
     "start_time": "2018-03-20T15:54:10.375992Z"
    }
   },
   "outputs": [],
   "source": [
    "# 创建列表\n",
    "a = [1,2,3]\n",
    "# 通过list()方法\n",
    "b = list((12,3,4))"
   ]
  },
  {
   "cell_type": "markdown",
   "metadata": {},
   "source": [
    "**列表常用方法**\n",
    "* append()：末尾增加元素\n",
    "\n",
    "* remove():删除元素\n",
    "\n",
    "* sort():排序(默认从小到大)\n",
    "\n",
    "* reverse()：反转\n",
    "\n",
    "* clear()：清空\n",
    "\n",
    "* count()：统计元素出现的次数\n",
    "\n",
    "* index()：求下标\n",
    "\n",
    "* pop()：弹出最后一个数据\n",
    "\n",
    "* insert()：插入新数据\n",
    "\n",
    "* insert(index下标，obj)：索引位置插入"
   ]
  },
  {
   "cell_type": "markdown",
   "metadata": {},
   "source": [
    "**索引**:Python语言中所有的索引都是从$0$开始计数的，如果列表中有$n$个元素，那么最后一个元素的索引是$n−1$。"
   ]
  },
  {
   "cell_type": "code",
   "execution_count": null,
   "metadata": {
    "ExecuteTime": {
     "end_time": "2018-03-20T15:54:10.558971Z",
     "start_time": "2018-03-20T15:54:10.470579Z"
    }
   },
   "outputs": [],
   "source": [
    "x = [1,2,3,4,5,6]\n",
    "print(x[0]) #输出‘1’\n",
    "print(x[-1]) #输出‘6’"
   ]
  },
  {
   "cell_type": "markdown",
   "metadata": {},
   "source": [
    "**切片**:切片能够一次性获取列表中多个元素。"
   ]
  },
  {
   "cell_type": "code",
   "execution_count": null,
   "metadata": {
    "ExecuteTime": {
     "end_time": "2018-03-20T15:54:10.624287Z",
     "start_time": "2018-03-20T15:54:10.561538Z"
    }
   },
   "outputs": [],
   "source": [
    "y = [6,5,4,3,2,1]\n",
    "print(y[1:3]) #输出[5, 4]\n",
    "print(y[:])  #输出[6, 5, 4, 3, 2, 1]\n",
    "print(y[:-3])  #输出[6, 5, 4]"
   ]
  },
  {
   "cell_type": "markdown",
   "metadata": {},
   "source": [
    "**列表推导**:将一种数据类型转换为另一种"
   ]
  },
  {
   "cell_type": "code",
   "execution_count": null,
   "metadata": {
    "ExecuteTime": {
     "end_time": "2018-03-20T15:54:10.715559Z",
     "start_time": "2018-03-20T15:54:10.626172Z"
    }
   },
   "outputs": [],
   "source": [
    "nums = [0, 1, 2, 3, 4]\n",
    "squares = [x ** 2 for x in nums]\n",
    "print(squares)  # 输出[0, 1, 4, 9, 16]"
   ]
  },
  {
   "cell_type": "markdown",
   "metadata": {},
   "source": [
    "### 元组（tuples)"
   ]
  },
  {
   "cell_type": "markdown",
   "metadata": {},
   "source": [
    "元组是一个值的有序列表（不可改变）。"
   ]
  },
  {
   "cell_type": "code",
   "execution_count": null,
   "metadata": {
    "ExecuteTime": {
     "end_time": "2018-03-20T15:54:10.789978Z",
     "start_time": "2018-03-20T15:54:10.719212Z"
    }
   },
   "outputs": [],
   "source": [
    "# 创建元组\n",
    "a = (1,2,3,4)\n",
    "# 通过tuple()方法\n",
    "b = tuple([4,3,2,1]) "
   ]
  },
  {
   "cell_type": "markdown",
   "metadata": {},
   "source": [
    "从很多方面来说，元组和列表都很相似。和列表最重要的不同在于，元组可以在字典中用作键，还可以作为集合的元素，而列表不行。"
   ]
  },
  {
   "cell_type": "code",
   "execution_count": null,
   "metadata": {
    "ExecuteTime": {
     "end_time": "2018-03-20T15:54:10.857125Z",
     "start_time": "2018-03-20T15:54:10.792897Z"
    }
   },
   "outputs": [],
   "source": [
    "d = {(x, x + 1): x for x in range(10)}  # 用元组键创建字典\n",
    "t = (5, 6)\n",
    "print(type(t))    # 输出\"<class 'tuple'>\"\n",
    "print(d[t])       # 输出\"5\"\n",
    "print(d[(1, 2)])  # 输出\"1\""
   ]
  },
  {
   "cell_type": "markdown",
   "metadata": {
    "ExecuteTime": {
     "end_time": "2018-03-20T14:44:04.922017Z",
     "start_time": "2018-03-20T14:44:04.916383Z"
    }
   },
   "source": [
    "元组的索引与切片和列表类似，这里就不一一介绍了。"
   ]
  },
  {
   "cell_type": "markdown",
   "metadata": {},
   "source": [
    "### 字典（dictionaries）"
   ]
  },
  {
   "cell_type": "markdown",
   "metadata": {},
   "source": [
    "字典是一种通过名字或者关键字引用的数据类型，这种结构类型也称之为映射。通过这种数据结构，我们可以使用数值型、字符型或其它类型的索引。字典的每个键值 (key=>value) 对用冒号 (:) 分割，每个对之间用逗号 (,) 分割，整个字典包括在花括号 ({})中。"
   ]
  },
  {
   "cell_type": "code",
   "execution_count": null,
   "metadata": {
    "ExecuteTime": {
     "end_time": "2018-03-20T15:54:10.923219Z",
     "start_time": "2018-03-20T15:54:10.859526Z"
    }
   },
   "outputs": [],
   "source": [
    "## 创建字典\n",
    "a = {'one':1,'two':2,'three':3}   #输出\"{'one': 1, 'three': 3, 'two': 2}\"\n",
    "\n",
    "## 通过dict()方法\n",
    "b = dict([('one',1),('two',2),('three',3),('four',4)])\n",
    "\n",
    "c=dict(one=1,two=2,three=3)"
   ]
  },
  {
   "cell_type": "markdown",
   "metadata": {},
   "source": [
    "**常用方法**\n",
    "\n",
    "* keys():以列表返回一个字典所有的键\n",
    "* values():以列表返回字典中的所有值\n",
    "* items():以列表返回可遍历的(键, 值) 元组数组"
   ]
  },
  {
   "cell_type": "code",
   "execution_count": null,
   "metadata": {
    "ExecuteTime": {
     "end_time": "2018-03-20T15:54:10.992643Z",
     "start_time": "2018-03-20T15:54:10.924914Z"
    }
   },
   "outputs": [],
   "source": [
    "print(a.keys())   #输出“dict_keys(['one', 'two', 'three'])”\n",
    "print(b.values()) #输出“dict_values([1, 2, 3, 4])”\n",
    "print(c.items())  #输出“dict_items([('one', 1), ('two', 2), ('three', 3)])#"
   ]
  },
  {
   "cell_type": "markdown",
   "metadata": {},
   "source": [
    "**字典推导**:和列表推导类似，允许你方便地构建字典。"
   ]
  },
  {
   "cell_type": "code",
   "execution_count": null,
   "metadata": {
    "ExecuteTime": {
     "end_time": "2018-03-20T15:54:11.055713Z",
     "start_time": "2018-03-20T15:54:10.996464Z"
    }
   },
   "outputs": [],
   "source": [
    "nums = [0, 1, 2, 3, 4]\n",
    "even_num_to_square = {x: x ** 2 for x in nums if x % 2 == 0}\n",
    "print(even_num_to_square)  #输出\"{0: 0, 2: 4, 4: 16}\""
   ]
  },
  {
   "cell_type": "markdown",
   "metadata": {},
   "source": [
    "### 集合（sets）"
   ]
  },
  {
   "cell_type": "markdown",
   "metadata": {
    "ExecuteTime": {
     "end_time": "2018-03-20T15:20:02.054699Z",
     "start_time": "2018-03-20T15:20:02.048968Z"
    }
   },
   "source": [
    "集合是独立不同个体的无序集合。"
   ]
  },
  {
   "cell_type": "code",
   "execution_count": null,
   "metadata": {
    "ExecuteTime": {
     "end_time": "2018-03-20T15:54:11.156945Z",
     "start_time": "2018-03-20T15:54:11.057905Z"
    }
   },
   "outputs": [],
   "source": [
    "# 创建方法\n",
    "a = {'1','2','3'}   #输出\"{'1','2','3'}\"\n",
    "\n",
    "#  通过set()方法\n",
    "b = set([1,2,3])   #输出”{1, 2, 3}“\n",
    "c = set((1,2,3))   #输出”{1, 2, 3}“\n",
    "d = set('123')     #输出”{'1','2','3'}“\n",
    "e = set({'one':1,'two':2,'three':3})   #输出”{'one', 'three', 'two'}“"
   ]
  },
  {
   "cell_type": "markdown",
   "metadata": {},
   "source": [
    "**常用方法**\n",
    "\n",
    "* add():增加元素\n",
    "* update():拆分元素传入集合\n",
    "* remove():删除元素\n",
    "\n",
    "**集合操作**\n",
    "\n",
    "* 与：set1 & set2\n",
    "* 或：set1 | set2\n",
    "* 与非：set1 ^ set2\n",
    "* 减：set1 - set2"
   ]
  },
  {
   "cell_type": "markdown",
   "metadata": {
    "ExecuteTime": {
     "end_time": "2018-03-20T15:33:25.818755Z",
     "start_time": "2018-03-20T15:33:25.812954Z"
    }
   },
   "source": [
    "## 面向对象"
   ]
  },
  {
   "cell_type": "markdown",
   "metadata": {},
   "source": [
    "### 函数"
   ]
  },
  {
   "cell_type": "markdown",
   "metadata": {
    "ExecuteTime": {
     "end_time": "2018-03-20T15:34:26.247540Z",
     "start_time": "2018-03-20T15:34:26.235816Z"
    }
   },
   "source": [
    "Python函数使用**def**来定义函数。函数是组织好的，可重复使用的，用来实现单一，或相关联功能的代码段。灵活利用函数能提高应用的模块性，和代码的重复利用率。"
   ]
  },
  {
   "cell_type": "code",
   "execution_count": null,
   "metadata": {
    "ExecuteTime": {
     "end_time": "2018-03-20T15:54:11.224743Z",
     "start_time": "2018-03-20T15:54:11.159730Z"
    }
   },
   "outputs": [],
   "source": [
    "def sign(x):\n",
    "    if x > 0:\n",
    "        return 'positive'\n",
    "    elif x < 0:\n",
    "        return 'negative'\n",
    "    else:\n",
    "        return 'zero'\n",
    "\n",
    "for x in [-1, 0, 1]:\n",
    "    print(sign(x))\n",
    "# 输出\"negative\", \"zero\", \"positive\""
   ]
  },
  {
   "cell_type": "markdown",
   "metadata": {},
   "source": [
    "**参数**\n",
    "\n",
    "* 必需参数:必需参数须以正确的顺序传入函数,调用时的数量必须和声明时的一样。\n",
    "* 关键字参数:关键字参数和函数调用关系紧密，函数调用使用关键字参数来确定传入的参数值。\n",
    "* 默认参数:调用函数时，如果没有传递参数，则会使用默认参数。\n",
    "* 不定长参数:处理比当初声明时更多的参数。"
   ]
  },
  {
   "cell_type": "markdown",
   "metadata": {},
   "source": [
    "**匿名函数**"
   ]
  },
  {
   "cell_type": "markdown",
   "metadata": {
    "ExecuteTime": {
     "end_time": "2018-03-20T15:43:18.000741Z",
     "start_time": "2018-03-20T15:43:17.986971Z"
    }
   },
   "source": [
    "python 使**lambd**来创建匿名函数。所谓匿名，意即不再使用**def**语句这样标准的形式定义一个函数。\n",
    "* lambda 只是一个表达式，函数体比 def 简单很多。\n",
    "* lambda的主体是一个表达式，而不是一个代码块。仅仅能在lambda表达式中封装有限的逻辑进去。\n",
    "* lambda 函数拥有自己的命名空间，且不能访问自己参数列表之外或全局命名空间里的参数。\n",
    "* 虽然lambda函数看起来只能写一行，却不等同于C或C++的内联函数，后者的目的是调用小函数时不占用栈内存从而增加运行效率。"
   ]
  },
  {
   "cell_type": "code",
   "execution_count": null,
   "metadata": {
    "ExecuteTime": {
     "end_time": "2018-03-20T15:54:11.313232Z",
     "start_time": "2018-03-20T15:54:11.228046Z"
    }
   },
   "outputs": [],
   "source": [
    "sum = lambda arg1, arg2: arg1 + arg2    #语法”lambda [arg1 [,arg2,.....argn]]:expression“\n",
    "print (\"相加后的值为 : \", sum( 10, 20 ))  #输出”相加后的值为 :  30“"
   ]
  },
  {
   "cell_type": "markdown",
   "metadata": {},
   "source": [
    "### 类（classes）"
   ]
  },
  {
   "cell_type": "markdown",
   "metadata": {},
   "source": [
    "Python从设计之初就已经是一门面向对象的语言，正因为如此，在Python中创建一个类和对象是很容易的。"
   ]
  },
  {
   "cell_type": "markdown",
   "metadata": {},
   "source": [
    "**面向对象技术简介**\n",
    "* **类(Class)**: 用来描述具有相同的属性和方法的对象的集合。它定义了该集合中每个对象所共有的属性和方法。对象是类的实例。\n",
    "* **类变量**：类变量在整个实例化的对象中是公用的。类变量定义在类中且在函数体之外。类变量通常不作为实例变量使用。\n",
    "* **数据成员**：类变量或者实例变量, 用于处理类及其实例对象的相关的数据。\n",
    "* **方法重写**：如果从父类继承的方法不能满足子类的需求，可以对其进行改写，这个过程叫方法的覆盖（override），也称为方法的重写。\n",
    "* **实例变量**：定义在方法中的变量，只作用于当前实例的类。\n",
    "* **继承**：即一个派生类（derived class）继承基类（base class）的字段和方法。继承也允许把一个派生类的对象作为一个基类对象对待。例如，有这样一个设计：一个Dog类型的对象派生自Animal类，这是模拟\"是一个（is-a）\"关系（例图，Dog是一个Animal）。\n",
    "* **实例化**：创建一个类的实例，类的具体对象。\n",
    "* **方法**：类中定义的函数。\n",
    "* **对象**：通过类定义的数据结构实例。对象包括两个数据成员（类变量和实例变量）和方法。"
   ]
  },
  {
   "cell_type": "code",
   "execution_count": null,
   "metadata": {
    "ExecuteTime": {
     "end_time": "2018-03-20T15:54:11.390954Z",
     "start_time": "2018-03-20T15:54:11.314900Z"
    }
   },
   "outputs": [],
   "source": [
    "class Greeter(object):\n",
    "\n",
    "    # 构造函数\n",
    "    def __init__(self, name):\n",
    "        self.name = name  # Create an instance variable\n",
    "\n",
    "    # 实例方法\n",
    "    def greet(self, loud=False):\n",
    "        if loud:\n",
    "            print('HELLO, %s!' % self.name.upper())\n",
    "        else:\n",
    "            print('Hello, %s' % self.name)\n",
    "            \n",
    "g = Greeter('Fred')  # 构建Greeter类的一个实例\n",
    "g.greet()            # 调用实例方法; 输出\"Hello, Fred\"\n",
    "g.greet(loud=True)   # 调用实例方法; 输出\"HELLO, FRED!\""
   ]
  }
 ],
 "metadata": {
  "kernelspec": {
   "display_name": "Python 3",
   "language": "python",
   "name": "python3"
  },
  "language_info": {
   "codemirror_mode": {
    "name": "ipython",
    "version": 3
   },
   "file_extension": ".py",
   "mimetype": "text/x-python",
   "name": "python",
   "nbconvert_exporter": "python",
   "pygments_lexer": "ipython3",
   "version": "3.6.3"
  },
  "latex_envs": {
   "LaTeX_envs_menu_present": true,
   "autoclose": false,
   "autocomplete": true,
   "bibliofile": "biblio.bib",
   "cite_by": "apalike",
   "current_citInitial": 1,
   "eqLabelWithNumbers": true,
   "eqNumInitial": 1,
   "hotkeys": {
    "equation": "Ctrl-E",
    "itemize": "Ctrl-I"
   },
   "labels_anchors": false,
   "latex_user_defs": false,
   "report_style_numbering": false,
   "user_envs_cfg": false
  }
 },
 "nbformat": 4,
 "nbformat_minor": 2
}
